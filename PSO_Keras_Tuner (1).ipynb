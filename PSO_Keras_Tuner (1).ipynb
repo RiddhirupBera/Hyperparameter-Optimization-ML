{
  "nbformat": 4,
  "nbformat_minor": 0,
  "metadata": {
    "colab": {
      "provenance": []
    },
    "kernelspec": {
      "name": "python3",
      "display_name": "Python 3"
    },
    "language_info": {
      "name": "python"
    },
    "accelerator": "GPU"
  },
  "cells": [
    {
      "cell_type": "code",
      "execution_count": 1,
      "metadata": {
        "colab": {
          "base_uri": "https://localhost:8080/"
        },
        "id": "pfTCVO3kifgN",
        "outputId": "5def5dbc-0e16-47a3-bf25-e58c32dd3a0a"
      },
      "outputs": [
        {
          "output_type": "stream",
          "name": "stdout",
          "text": [
            "Looking in indexes: https://pypi.org/simple, https://us-python.pkg.dev/colab-wheels/public/simple/\n",
            "Collecting keras-tuner\n",
            "  Downloading keras_tuner-1.1.3-py3-none-any.whl (135 kB)\n",
            "\u001b[?25l\r\u001b[K     |██▍                             | 10 kB 27.9 MB/s eta 0:00:01\r\u001b[K     |████▉                           | 20 kB 9.8 MB/s eta 0:00:01\r\u001b[K     |███████▎                        | 30 kB 13.7 MB/s eta 0:00:01\r\u001b[K     |█████████▋                      | 40 kB 5.7 MB/s eta 0:00:01\r\u001b[K     |████████████                    | 51 kB 6.0 MB/s eta 0:00:01\r\u001b[K     |██████████████▌                 | 61 kB 7.1 MB/s eta 0:00:01\r\u001b[K     |█████████████████               | 71 kB 7.5 MB/s eta 0:00:01\r\u001b[K     |███████████████████▎            | 81 kB 7.5 MB/s eta 0:00:01\r\u001b[K     |█████████████████████▊          | 92 kB 8.3 MB/s eta 0:00:01\r\u001b[K     |████████████████████████▏       | 102 kB 6.9 MB/s eta 0:00:01\r\u001b[K     |██████████████████████████▋     | 112 kB 6.9 MB/s eta 0:00:01\r\u001b[K     |█████████████████████████████   | 122 kB 6.9 MB/s eta 0:00:01\r\u001b[K     |███████████████████████████████▍| 133 kB 6.9 MB/s eta 0:00:01\r\u001b[K     |████████████████████████████████| 135 kB 6.9 MB/s \n",
            "\u001b[?25hRequirement already satisfied: packaging in /usr/local/lib/python3.7/dist-packages (from keras-tuner) (21.3)\n",
            "Requirement already satisfied: tensorboard in /usr/local/lib/python3.7/dist-packages (from keras-tuner) (2.8.0)\n",
            "Requirement already satisfied: ipython in /usr/local/lib/python3.7/dist-packages (from keras-tuner) (7.9.0)\n",
            "Requirement already satisfied: numpy in /usr/local/lib/python3.7/dist-packages (from keras-tuner) (1.21.6)\n",
            "Requirement already satisfied: requests in /usr/local/lib/python3.7/dist-packages (from keras-tuner) (2.23.0)\n",
            "Collecting kt-legacy\n",
            "  Downloading kt_legacy-1.0.4-py3-none-any.whl (9.6 kB)\n",
            "Requirement already satisfied: pickleshare in /usr/local/lib/python3.7/dist-packages (from ipython->keras-tuner) (0.7.5)\n",
            "Requirement already satisfied: setuptools>=18.5 in /usr/local/lib/python3.7/dist-packages (from ipython->keras-tuner) (57.4.0)\n",
            "Requirement already satisfied: prompt-toolkit<2.1.0,>=2.0.0 in /usr/local/lib/python3.7/dist-packages (from ipython->keras-tuner) (2.0.10)\n",
            "Requirement already satisfied: backcall in /usr/local/lib/python3.7/dist-packages (from ipython->keras-tuner) (0.2.0)\n",
            "Collecting jedi>=0.10\n",
            "  Downloading jedi-0.18.1-py2.py3-none-any.whl (1.6 MB)\n",
            "\u001b[K     |████████████████████████████████| 1.6 MB 40.0 MB/s \n",
            "\u001b[?25hRequirement already satisfied: pygments in /usr/local/lib/python3.7/dist-packages (from ipython->keras-tuner) (2.6.1)\n",
            "Requirement already satisfied: traitlets>=4.2 in /usr/local/lib/python3.7/dist-packages (from ipython->keras-tuner) (5.1.1)\n",
            "Requirement already satisfied: decorator in /usr/local/lib/python3.7/dist-packages (from ipython->keras-tuner) (4.4.2)\n",
            "Requirement already satisfied: pexpect in /usr/local/lib/python3.7/dist-packages (from ipython->keras-tuner) (4.8.0)\n",
            "Requirement already satisfied: parso<0.9.0,>=0.8.0 in /usr/local/lib/python3.7/dist-packages (from jedi>=0.10->ipython->keras-tuner) (0.8.3)\n",
            "Requirement already satisfied: six>=1.9.0 in /usr/local/lib/python3.7/dist-packages (from prompt-toolkit<2.1.0,>=2.0.0->ipython->keras-tuner) (1.15.0)\n",
            "Requirement already satisfied: wcwidth in /usr/local/lib/python3.7/dist-packages (from prompt-toolkit<2.1.0,>=2.0.0->ipython->keras-tuner) (0.2.5)\n",
            "Requirement already satisfied: pyparsing!=3.0.5,>=2.0.2 in /usr/local/lib/python3.7/dist-packages (from packaging->keras-tuner) (3.0.9)\n",
            "Requirement already satisfied: ptyprocess>=0.5 in /usr/local/lib/python3.7/dist-packages (from pexpect->ipython->keras-tuner) (0.7.0)\n",
            "Requirement already satisfied: chardet<4,>=3.0.2 in /usr/local/lib/python3.7/dist-packages (from requests->keras-tuner) (3.0.4)\n",
            "Requirement already satisfied: idna<3,>=2.5 in /usr/local/lib/python3.7/dist-packages (from requests->keras-tuner) (2.10)\n",
            "Requirement already satisfied: urllib3!=1.25.0,!=1.25.1,<1.26,>=1.21.1 in /usr/local/lib/python3.7/dist-packages (from requests->keras-tuner) (1.24.3)\n",
            "Requirement already satisfied: certifi>=2017.4.17 in /usr/local/lib/python3.7/dist-packages (from requests->keras-tuner) (2022.6.15)\n",
            "Requirement already satisfied: google-auth-oauthlib<0.5,>=0.4.1 in /usr/local/lib/python3.7/dist-packages (from tensorboard->keras-tuner) (0.4.6)\n",
            "Requirement already satisfied: werkzeug>=0.11.15 in /usr/local/lib/python3.7/dist-packages (from tensorboard->keras-tuner) (1.0.1)\n",
            "Requirement already satisfied: tensorboard-data-server<0.7.0,>=0.6.0 in /usr/local/lib/python3.7/dist-packages (from tensorboard->keras-tuner) (0.6.1)\n",
            "Requirement already satisfied: grpcio>=1.24.3 in /usr/local/lib/python3.7/dist-packages (from tensorboard->keras-tuner) (1.48.1)\n",
            "Requirement already satisfied: absl-py>=0.4 in /usr/local/lib/python3.7/dist-packages (from tensorboard->keras-tuner) (1.2.0)\n",
            "Requirement already satisfied: tensorboard-plugin-wit>=1.6.0 in /usr/local/lib/python3.7/dist-packages (from tensorboard->keras-tuner) (1.8.1)\n",
            "Requirement already satisfied: protobuf>=3.6.0 in /usr/local/lib/python3.7/dist-packages (from tensorboard->keras-tuner) (3.17.3)\n",
            "Requirement already satisfied: markdown>=2.6.8 in /usr/local/lib/python3.7/dist-packages (from tensorboard->keras-tuner) (3.4.1)\n",
            "Requirement already satisfied: wheel>=0.26 in /usr/local/lib/python3.7/dist-packages (from tensorboard->keras-tuner) (0.37.1)\n",
            "Requirement already satisfied: google-auth<3,>=1.6.3 in /usr/local/lib/python3.7/dist-packages (from tensorboard->keras-tuner) (1.35.0)\n",
            "Requirement already satisfied: rsa<5,>=3.1.4 in /usr/local/lib/python3.7/dist-packages (from google-auth<3,>=1.6.3->tensorboard->keras-tuner) (4.9)\n",
            "Requirement already satisfied: cachetools<5.0,>=2.0.0 in /usr/local/lib/python3.7/dist-packages (from google-auth<3,>=1.6.3->tensorboard->keras-tuner) (4.2.4)\n",
            "Requirement already satisfied: pyasn1-modules>=0.2.1 in /usr/local/lib/python3.7/dist-packages (from google-auth<3,>=1.6.3->tensorboard->keras-tuner) (0.2.8)\n",
            "Requirement already satisfied: requests-oauthlib>=0.7.0 in /usr/local/lib/python3.7/dist-packages (from google-auth-oauthlib<0.5,>=0.4.1->tensorboard->keras-tuner) (1.3.1)\n",
            "Requirement already satisfied: importlib-metadata>=4.4 in /usr/local/lib/python3.7/dist-packages (from markdown>=2.6.8->tensorboard->keras-tuner) (4.12.0)\n",
            "Requirement already satisfied: typing-extensions>=3.6.4 in /usr/local/lib/python3.7/dist-packages (from importlib-metadata>=4.4->markdown>=2.6.8->tensorboard->keras-tuner) (4.1.1)\n",
            "Requirement already satisfied: zipp>=0.5 in /usr/local/lib/python3.7/dist-packages (from importlib-metadata>=4.4->markdown>=2.6.8->tensorboard->keras-tuner) (3.8.1)\n",
            "Requirement already satisfied: pyasn1<0.5.0,>=0.4.6 in /usr/local/lib/python3.7/dist-packages (from pyasn1-modules>=0.2.1->google-auth<3,>=1.6.3->tensorboard->keras-tuner) (0.4.8)\n",
            "Requirement already satisfied: oauthlib>=3.0.0 in /usr/local/lib/python3.7/dist-packages (from requests-oauthlib>=0.7.0->google-auth-oauthlib<0.5,>=0.4.1->tensorboard->keras-tuner) (3.2.0)\n",
            "Installing collected packages: jedi, kt-legacy, keras-tuner\n",
            "Successfully installed jedi-0.18.1 keras-tuner-1.1.3 kt-legacy-1.0.4\n"
          ]
        }
      ],
      "source": [
        "#Import the required libraries\n",
        "!pip install keras-tuner\n",
        "import cv2\n",
        "import matplotlib.pyplot as plt\n",
        "import matplotlib.image as mpimg\n",
        "import seaborn as sns\n",
        "import pathlib, os, random\n",
        "import numpy as np\n",
        "import pandas as pd\n",
        "import tensorflow as tf\n",
        "import tensorflow as tf\n",
        "from PIL import Image\n",
        "from keras.utils import np_utils\n",
        "from sklearn.model_selection import train_test_split\n",
        "import time\n",
        "import keras\n",
        "from tensorflow.keras.optimizers import Adam\n",
        "from tensorflow.keras.layers import Dense, Flatten, Conv2D, MaxPooling2D, Activation, BatchNormalization, Dropout\n",
        "from tensorflow.keras.preprocessing.image import ImageDataGenerator\n",
        "from tensorflow.keras import Sequential\n",
        "from keras_tuner import RandomSearch\n",
        "from keras_tuner.engine.hyperparameters import HyperParameters\n",
        "from sklearn.ensemble import RandomForestClassifier\n",
        "from sklearn.model_selection import GridSearchCV\n",
        "from sklearn.preprocessing import MinMaxScaler\n",
        "\n",
        "\n",
        "import cv2\n",
        "import matplotlib.pyplot as plt \n",
        "import seaborn as sns\n",
        "import os\n",
        "from PIL import Image\n",
        "from tensorflow.keras.utils import img_to_array\n",
        "from tensorflow.keras.utils import load_img\n",
        "from keras.utils import np_utils"
      ]
    },
    {
      "cell_type": "code",
      "source": [],
      "metadata": {
        "id": "FLJH8giBiuAo"
      },
      "execution_count": null,
      "outputs": []
    },
    {
      "cell_type": "code",
      "source": [
        "#Understanding the files in different data directories\n",
        "bad_data = os.listdir('/content/drive/MyDrive/Ethiopia_3/Bad')\n",
        "print(\"Bad coffee beans: \",bad_data[:10])\n",
        "\n",
        "good_data = os.listdir('/content/drive/MyDrive/Ethiopia_3/Good')\n",
        "print(\"Good coffee beans: \",good_data[:10])"
      ],
      "metadata": {
        "colab": {
          "base_uri": "https://localhost:8080/"
        },
        "id": "t_N_uZisijgA",
        "outputId": "2c9ba3b3-9cef-4c68-9778-4f943288c6fd"
      },
      "execution_count": 15,
      "outputs": [
        {
          "output_type": "stream",
          "name": "stdout",
          "text": [
            "Bad coffee beans:  ['IMG_5985_1.jpg', 'IMG_5983_1.jpg', 'IMG_5980_1.jpg', 'IMG_5979_1.jpg', 'IMG_5981_7.jpg', 'IMG_5979_7.jpg', 'IMG_5984_3.jpg', 'IMG_5979_9.jpg', 'IMG_5982_4.jpg', 'IMG_5985_6.jpg']\n",
            "Good coffee beans:  ['IMG_5923_8.jpg', 'IMG_5919_8.jpg', 'IMG_5918_6.jpg', 'IMG_5923_7.jpg', 'IMG_5922_2.jpg', 'IMG_5920_5.jpg', 'IMG_5921_9.jpg', 'IMG_5918_3.jpg', 'IMG_5923_6.jpg', 'IMG_5917_9.jpg']\n"
          ]
        }
      ]
    },
    {
      "cell_type": "code",
      "source": [
        "data = []\n",
        "labels = []\n",
        "for img in bad_data:\n",
        "    try:\n",
        "        img_read = plt.imread('/content/drive/MyDrive/Ethiopia_3/Bad' + \"/\" + img)\n",
        "        img_resize = cv2.resize(img_read, (256,256))\n",
        "        img_array = img_to_array(img_resize)\n",
        "        data.append(img_array)\n",
        "        labels.append(1)\n",
        "    except:\n",
        "        None\n",
        "        \n",
        "for img in good_data:\n",
        "    try:\n",
        "        img_read = plt.imread('/content/drive/MyDrive/Ethiopia_3/Good' + \"/\" + img)\n",
        "        img_resize = cv2.resize(img_read, (256,256))\n",
        "        img_array = img_to_array(img_resize)\n",
        "        data.append(img_array)\n",
        "        labels.append(0)\n",
        "    except:\n",
        "        None"
      ],
      "metadata": {
        "id": "1TCZsD54lhRV"
      },
      "execution_count": 16,
      "outputs": []
    },
    {
      "cell_type": "code",
      "source": [
        "image_data = np.array(data)\n",
        "labels = np.array(labels)\n",
        "\n",
        "idx = np.arange(image_data.shape[0])\n",
        "np.random.shuffle(idx)\n",
        "image_data = image_data[idx]\n",
        "labels = labels[idx]"
      ],
      "metadata": {
        "id": "UKVE-7FMlpzs"
      },
      "execution_count": 17,
      "outputs": []
    },
    {
      "cell_type": "code",
      "source": [
        "from sklearn.model_selection import train_test_split\n",
        "x_train, x_test, y_train, y_test = train_test_split(image_data, labels, test_size = 0.2, random_state = 101)\n",
        "\n",
        "y_train = np_utils.to_categorical(y_train, num_classes = 2)\n",
        "y_test = np_utils.to_categorical(y_test, num_classes = 2)\n",
        "\n",
        "print(f'SHAPE OF TRAINING IMAGE DATA : {x_train.shape}')\n",
        "print(f'SHAPE OF TESTING IMAGE DATA : {x_test.shape}')\n",
        "print(f'SHAPE OF TRAINING LABELS : {y_train.shape}')\n",
        "print(f'SHAPE OF TESTING LABELS : {y_test.shape}')"
      ],
      "metadata": {
        "colab": {
          "base_uri": "https://localhost:8080/"
        },
        "id": "uvGJBUCymUjn",
        "outputId": "dbf4d34e-a483-41f4-eb69-a054d6f61262"
      },
      "execution_count": 18,
      "outputs": [
        {
          "output_type": "stream",
          "name": "stdout",
          "text": [
            "SHAPE OF TRAINING IMAGE DATA : (112, 256, 256, 3)\n",
            "SHAPE OF TESTING IMAGE DATA : (28, 256, 256, 3)\n",
            "SHAPE OF TRAINING LABELS : (112, 2)\n",
            "SHAPE OF TESTING LABELS : (28, 2)\n"
          ]
        }
      ]
    },
    {
      "cell_type": "code",
      "source": [
        "!pip install hyperactive==0.3.1\n",
        "import hyperactive as hyp"
      ],
      "metadata": {
        "colab": {
          "base_uri": "https://localhost:8080/"
        },
        "id": "MEhCPIAFmWyi",
        "outputId": "c0545e00-8d8f-4524-8d3c-a4cc20fbd40e"
      },
      "execution_count": 19,
      "outputs": [
        {
          "output_type": "stream",
          "name": "stdout",
          "text": [
            "Looking in indexes: https://pypi.org/simple, https://us-python.pkg.dev/colab-wheels/public/simple/\n",
            "Requirement already satisfied: hyperactive==0.3.1 in /usr/local/lib/python3.7/dist-packages (0.3.1)\n",
            "Requirement already satisfied: keras in /usr/local/lib/python3.7/dist-packages (from hyperactive==0.3.1) (2.8.0)\n",
            "Requirement already satisfied: scikit-learn>=0.18 in /usr/local/lib/python3.7/dist-packages (from hyperactive==0.3.1) (1.0.2)\n",
            "Requirement already satisfied: tqdm in /usr/local/lib/python3.7/dist-packages (from hyperactive==0.3.1) (4.64.1)\n",
            "Requirement already satisfied: numpy in /usr/local/lib/python3.7/dist-packages (from hyperactive==0.3.1) (1.21.6)\n",
            "Requirement already satisfied: scipy>=1.1.0 in /usr/local/lib/python3.7/dist-packages (from scikit-learn>=0.18->hyperactive==0.3.1) (1.7.3)\n",
            "Requirement already satisfied: joblib>=0.11 in /usr/local/lib/python3.7/dist-packages (from scikit-learn>=0.18->hyperactive==0.3.1) (1.1.0)\n",
            "Requirement already satisfied: threadpoolctl>=2.0.0 in /usr/local/lib/python3.7/dist-packages (from scikit-learn>=0.18->hyperactive==0.3.1) (3.1.0)\n"
          ]
        }
      ]
    },
    {
      "cell_type": "code",
      "source": [
        "search_config = {\n",
        "    \"keras.compile.0\": {\"loss\": [\"binary_crossentropy\"], \"optimizer\": [\"adam\"]},\n",
        "    \"keras.fit.0\": {\"epochs\": [5], \"batch_size\": [32], \"verbose\": [2]},\n",
        "    \"keras.layers.Conv2D.1\": {\n",
        "        \"filters\": [32, 64, 128],\n",
        "        \"kernel_size\": [(3, 3)],\n",
        "        \"activation\": [\"relu\"],\n",
        "        \"input_shape\": [(256,256,3)],\n",
        "    },\n",
        "    \"keras.layers.MaxPooling2D.2\": {\"pool_size\": [(2, 2)]},\n",
        "    \"keras.layers.Conv2D.3\": {\n",
        "        \"filters\": [16, 32, 64, 128],\n",
        "        \"kernel_size\": [(3, 3)],\n",
        "        \"activation\": [\"relu\"],\n",
        "    },\n",
        "    \"keras.layers.MaxPooling2D.4\": {\"pool_size\": [(2, 2)]},\n",
        "    \"keras.layers.Flatten.5\": {},\n",
        "    \"keras.layers.Dense.6\": {\"units\": range(30, 100, 10), \"activation\": [\"relu\"]},\n",
        "    \"keras.layers.Dropout.7\": {\"rate\": list(np.arange(0.2, 0.8, 0.2))},\n",
        "    \"keras.layers.Dense.8\": {\"units\": [2], \"activation\": [\"softmax\"]},\n",
        "}\n",
        "start_point = {\n",
        "    \"keras.compile.0\": {\"loss\": [\"binary_crossentropy\"], \"optimizer\": [\"adam\"]},\n",
        "    \"keras.fit.0\": {\"epochs\": [5], \"batch_size\": [32], \"verbose\": [2]},\n",
        "    \"keras.layers.Conv2D.1\": {\n",
        "        \"filters\": [64],\n",
        "        \"kernel_size\": [(3, 3)],\n",
        "        \"activation\": [\"relu\"],\n",
        "        \"input_shape\": [(256,256,3)],\n",
        "    },\n",
        "    \"keras.layers.MaxPooling2D.2\": {\"pool_size\": [(2, 2)]},\n",
        "    \"keras.layers.Conv2D.3\": {\n",
        "        \"filters\": [32],\n",
        "        \"kernel_size\": [(3, 3)],\n",
        "        \"activation\": [\"relu\"],\n",
        "    },\n",
        "    \"keras.layers.MaxPooling2D.4\": {\"pool_size\": [(2, 2)]},\n",
        "    \"keras.layers.Flatten.5\": {},\n",
        "    \"keras.layers.Dense.6\": {\"units\": [30], \"activation\": [\"relu\"]},\n",
        "    \"keras.layers.Dropout.7\": {\"rate\": [0.2]},\n",
        "    \"keras.layers.Dense.8\": {\"units\": [2], \"activation\": [\"softmax\"]},\n",
        "}\n",
        "\n",
        "\n",
        "#https://pypi.org/project/hyperactive/0.3.1/ \n",
        "Optimizer = hyp.ParticleSwarmOptimizer(search_config, n_iter=3,warm_start=start_point, metric=\"accuracy\", n_jobs=1, cv=3, verbosity=1, random_state=42, n_part=3, w=0.85, c_k=1.9, c_s=2.05)"
      ],
      "metadata": {
        "id": "JqMmOXKLmahh"
      },
      "execution_count": 20,
      "outputs": []
    },
    {
      "cell_type": "code",
      "source": [
        "import time\n",
        "t1 = time.time()\n",
        "# search best hyperparameter for given data\n",
        "h = Optimizer.fit(x_train, y_train)\n",
        "\n",
        "t2 = time.time()\n",
        "print(\"time: {}\".format(t2-t1))\n",
        "\n",
        "# predict from test data\n",
        "Optimizer.predict(x_test)\n",
        "\n",
        "# calculate accuracy score\n",
        "score = Optimizer.score(x_test, y_test)\n",
        "\n",
        "print(\"test score: {}\".format(score))"
      ],
      "metadata": {
        "colab": {
          "base_uri": "https://localhost:8080/"
        },
        "id": "0-zh19C0mhKZ",
        "outputId": "c7f12e9b-1285-4837-9260-66059bb88a2e"
      },
      "execution_count": 21,
      "outputs": [
        {
          "output_type": "stream",
          "name": "stdout",
          "text": [
            "Epoch 1/5\n",
            "4/4 - 2s - loss: 851.6553 - accuracy: 0.4821 - 2s/epoch - 477ms/step\n",
            "Epoch 2/5\n",
            "4/4 - 0s - loss: 34.8640 - accuracy: 0.5179 - 253ms/epoch - 63ms/step\n",
            "Epoch 3/5\n",
            "4/4 - 0s - loss: 5.4423 - accuracy: 0.5268 - 253ms/epoch - 63ms/step\n",
            "Epoch 4/5\n",
            "4/4 - 0s - loss: 3.4298 - accuracy: 0.4732 - 252ms/epoch - 63ms/step\n",
            "Epoch 5/5\n",
            "4/4 - 0s - loss: 0.6931 - accuracy: 0.5000 - 244ms/epoch - 61ms/step\n",
            "4/4 [==============================] - 0s 31ms/step - loss: 0.6931 - accuracy: 0.5000\n"
          ]
        },
        {
          "output_type": "stream",
          "name": "stderr",
          "text": [
            "\r  0%|          | 0/3 [00:00<?, ?it/s]"
          ]
        },
        {
          "output_type": "stream",
          "name": "stdout",
          "text": [
            "Epoch 1/5\n",
            "4/4 - 1s - loss: 551.7710 - accuracy: 0.4107 - 1s/epoch - 313ms/step\n",
            "Epoch 2/5\n",
            "4/4 - 0s - loss: 111.3495 - accuracy: 0.4554 - 151ms/epoch - 38ms/step\n",
            "Epoch 3/5\n",
            "4/4 - 0s - loss: 13.5442 - accuracy: 0.5357 - 153ms/epoch - 38ms/step\n",
            "Epoch 4/5\n",
            "4/4 - 0s - loss: 0.8538 - accuracy: 0.6786 - 158ms/epoch - 40ms/step\n",
            "Epoch 5/5\n",
            "4/4 - 0s - loss: 0.4490 - accuracy: 0.7946 - 145ms/epoch - 36ms/step\n",
            "4/4 [==============================] - 0s 18ms/step - loss: 0.2718 - accuracy: 0.9375\n",
            "Epoch 1/5\n",
            "4/4 - 1s - loss: 154.0101 - accuracy: 0.5179 - 1s/epoch - 316ms/step\n",
            "Epoch 2/5\n",
            "4/4 - 0s - loss: 7.4298 - accuracy: 0.4732 - 267ms/epoch - 67ms/step\n",
            "Epoch 3/5\n",
            "4/4 - 0s - loss: 0.6893 - accuracy: 0.4732 - 294ms/epoch - 73ms/step\n",
            "Epoch 4/5\n",
            "4/4 - 0s - loss: 0.6652 - accuracy: 0.4821 - 264ms/epoch - 66ms/step\n",
            "Epoch 5/5\n",
            "4/4 - 0s - loss: 0.6035 - accuracy: 0.5804 - 250ms/epoch - 63ms/step\n",
            "4/4 [==============================] - 0s 40ms/step - loss: 0.5009 - accuracy: 0.5804\n",
            "Epoch 1/5\n",
            "4/4 - 4s - loss: 675.4406 - accuracy: 0.4732 - 4s/epoch - 980ms/step\n",
            "Epoch 2/5\n",
            "4/4 - 1s - loss: 27.0769 - accuracy: 0.5446 - 530ms/epoch - 132ms/step\n",
            "Epoch 3/5\n",
            "4/4 - 1s - loss: 0.6931 - accuracy: 0.4821 - 527ms/epoch - 132ms/step\n",
            "Epoch 4/5\n",
            "4/4 - 1s - loss: 0.6931 - accuracy: 0.5536 - 536ms/epoch - 134ms/step\n",
            "Epoch 5/5\n",
            "4/4 - 1s - loss: 0.6931 - accuracy: 0.5089 - 543ms/epoch - 136ms/step\n",
            "4/4 [==============================] - 0s 52ms/step - loss: 0.6931 - accuracy: 0.5000\n"
          ]
        },
        {
          "output_type": "stream",
          "name": "stderr",
          "text": [
            "\r 33%|███▎      | 1/3 [00:12<00:24, 12.42s/it]"
          ]
        },
        {
          "output_type": "stream",
          "name": "stdout",
          "text": [
            "Epoch 1/5\n",
            "4/4 - 1s - loss: 1388.8821 - accuracy: 0.3929 - 991ms/epoch - 248ms/step\n",
            "Epoch 2/5\n",
            "4/4 - 0s - loss: 168.9394 - accuracy: 0.5446 - 206ms/epoch - 51ms/step\n",
            "Epoch 3/5\n",
            "4/4 - 0s - loss: 11.0860 - accuracy: 0.5625 - 195ms/epoch - 49ms/step\n",
            "Epoch 4/5\n",
            "4/4 - 0s - loss: 22.4843 - accuracy: 0.5000 - 199ms/epoch - 50ms/step\n",
            "Epoch 5/5\n",
            "4/4 - 0s - loss: 0.6917 - accuracy: 0.5089 - 169ms/epoch - 42ms/step\n",
            "4/4 [==============================] - 0s 25ms/step - loss: 14.6814 - accuracy: 0.5000\n",
            "Epoch 1/5\n",
            "4/4 - 1s - loss: 634.8524 - accuracy: 0.5357 - 952ms/epoch - 238ms/step\n",
            "Epoch 2/5\n",
            "4/4 - 0s - loss: 41.1516 - accuracy: 0.5625 - 147ms/epoch - 37ms/step\n",
            "Epoch 3/5\n",
            "4/4 - 0s - loss: 6.2224 - accuracy: 0.6339 - 152ms/epoch - 38ms/step\n",
            "Epoch 4/5\n",
            "4/4 - 0s - loss: 0.3344 - accuracy: 0.8839 - 152ms/epoch - 38ms/step\n",
            "Epoch 5/5\n",
            "4/4 - 0s - loss: 0.2737 - accuracy: 0.9732 - 145ms/epoch - 36ms/step\n",
            "4/4 [==============================] - 0s 20ms/step - loss: 0.1302 - accuracy: 0.9911\n",
            "Epoch 1/5\n",
            "4/4 - 1s - loss: 843.8620 - accuracy: 0.4643 - 650ms/epoch - 162ms/step\n",
            "Epoch 2/5\n",
            "4/4 - 0s - loss: 84.6037 - accuracy: 0.5625 - 154ms/epoch - 38ms/step\n",
            "Epoch 3/5\n",
            "4/4 - 0s - loss: 5.6616 - accuracy: 0.6250 - 146ms/epoch - 37ms/step\n",
            "Epoch 4/5\n",
            "4/4 - 0s - loss: 0.4931 - accuracy: 0.7768 - 153ms/epoch - 38ms/step\n",
            "Epoch 5/5\n",
            "4/4 - 0s - loss: 0.2737 - accuracy: 0.9911 - 145ms/epoch - 36ms/step\n",
            "4/4 [==============================] - 0s 19ms/step - loss: 0.1645 - accuracy: 0.9464\n"
          ]
        },
        {
          "output_type": "stream",
          "name": "stderr",
          "text": [
            "\r 67%|██████▋   | 2/3 [00:19<00:09,  9.22s/it]"
          ]
        },
        {
          "output_type": "stream",
          "name": "stdout",
          "text": [
            "Epoch 1/5\n",
            "4/4 - 1s - loss: 215.0172 - accuracy: 0.4911 - 631ms/epoch - 158ms/step\n",
            "Epoch 2/5\n",
            "4/4 - 0s - loss: 46.2855 - accuracy: 0.5804 - 154ms/epoch - 39ms/step\n",
            "Epoch 3/5\n",
            "4/4 - 0s - loss: 22.9610 - accuracy: 0.6250 - 150ms/epoch - 37ms/step\n",
            "Epoch 4/5\n",
            "4/4 - 0s - loss: 0.5403 - accuracy: 0.8304 - 150ms/epoch - 37ms/step\n",
            "Epoch 5/5\n",
            "4/4 - 0s - loss: 0.3202 - accuracy: 0.8571 - 145ms/epoch - 36ms/step\n",
            "4/4 [==============================] - 0s 20ms/step - loss: 0.2488 - accuracy: 0.9107\n",
            "Epoch 1/5\n",
            "4/4 - 1s - loss: 491.5859 - accuracy: 0.4554 - 656ms/epoch - 164ms/step\n",
            "Epoch 2/5\n",
            "4/4 - 0s - loss: 31.7766 - accuracy: 0.5625 - 153ms/epoch - 38ms/step\n",
            "Epoch 3/5\n",
            "4/4 - 0s - loss: 7.8497 - accuracy: 0.5804 - 153ms/epoch - 38ms/step\n",
            "Epoch 4/5\n",
            "4/4 - 0s - loss: 0.7237 - accuracy: 0.8750 - 158ms/epoch - 39ms/step\n",
            "Epoch 5/5\n",
            "4/4 - 0s - loss: 0.3733 - accuracy: 0.8393 - 144ms/epoch - 36ms/step\n",
            "4/4 [==============================] - 0s 19ms/step - loss: 0.1626 - accuracy: 0.9464\n",
            "Epoch 1/5\n",
            "4/4 - 1s - loss: 753.4327 - accuracy: 0.5446 - 654ms/epoch - 163ms/step\n",
            "Epoch 2/5\n",
            "4/4 - 0s - loss: 153.1192 - accuracy: 0.4821 - 152ms/epoch - 38ms/step\n",
            "Epoch 3/5\n",
            "4/4 - 0s - loss: 27.5602 - accuracy: 0.5536 - 153ms/epoch - 38ms/step\n",
            "Epoch 4/5\n",
            "4/4 - 0s - loss: 0.7917 - accuracy: 0.8393 - 148ms/epoch - 37ms/step\n",
            "Epoch 5/5\n",
            "4/4 - 0s - loss: 0.3424 - accuracy: 0.8750 - 145ms/epoch - 36ms/step\n",
            "4/4 [==============================] - 0s 19ms/step - loss: 0.2115 - accuracy: 0.9821\n"
          ]
        },
        {
          "output_type": "stream",
          "name": "stderr",
          "text": [
            "                                             "
          ]
        },
        {
          "output_type": "stream",
          "name": "stdout",
          "text": [
            "\n",
            " accuracy 0.9910714030265808\n",
            "start_point = {'keras.compile.0': {'loss': ['binary_crossentropy'], 'optimizer': ['adam']}, 'keras.fit.0': {'epochs': [5], 'batch_size': [32], 'verbose': [2]}, 'keras.layers.Conv2D.1': {'filters': [32], 'kernel_size': [(3, 3)], 'activation': ['relu'], 'input_shape': [(256, 256, 3)]}, 'keras.layers.MaxPooling2D.2': {'pool_size': [(2, 2)]}, 'keras.layers.Conv2D.3': {'filters': [16], 'kernel_size': [(3, 3)], 'activation': ['relu']}, 'keras.layers.MaxPooling2D.4': {'pool_size': [(2, 2)]}, 'keras.layers.Flatten.5': {}, 'keras.layers.Dense.6': {'units': [80], 'activation': ['relu']}, 'keras.layers.Dropout.7': {'rate': [0.2]}, 'keras.layers.Dense.8': {'units': [2], 'activation': ['softmax']}}\n",
            "1/4 [======>.......................] - ETA: 0s - loss: 0.6932 - accuracy: 0.4688"
          ]
        },
        {
          "output_type": "stream",
          "name": "stderr",
          "text": [
            "\r"
          ]
        },
        {
          "output_type": "stream",
          "name": "stdout",
          "text": [
            "4/4 [==============================] - 0s 62ms/step - loss: 0.6931 - accuracy: 0.5000\n",
            "time: 29.007092475891113\n",
            "1/1 [==============================] - 0s 50ms/step - loss: 0.6931 - accuracy: 0.5000\n",
            "test score: 0.5\n"
          ]
        }
      ]
    },
    {
      "cell_type": "code",
      "source": [],
      "metadata": {
        "id": "7bbfMDXnmj-S"
      },
      "execution_count": 21,
      "outputs": []
    }
  ]
}