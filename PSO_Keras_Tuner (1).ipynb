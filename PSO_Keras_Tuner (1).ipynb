{
  "nbformat": 4,
  "nbformat_minor": 0,
  "metadata": {
    "colab": {
      "provenance": []
    },
    "kernelspec": {
      "name": "python3",
      "display_name": "Python 3"
    },
    "language_info": {
      "name": "python"
    },
    "accelerator": "GPU"
  },
  "cells": [
    {
      "cell_type": "code",
      "execution_count": 1,
      "metadata": {
        "colab": {
          "base_uri": "https://localhost:8080/"
        },
        "id": "pfTCVO3kifgN",
        "outputId": "5def5dbc-0e16-47a3-bf25-e58c32dd3a0a"
      },
      "outputs": [
        {
          "output_type": "stream",
          "name": "stdout",
          "text": [
            "Looking in indexes: https://pypi.org/simple, https://us-python.pkg.dev/colab-wheels/public/simple/\n",
            "Collecting keras-tuner\n",
            "  Downloading keras_tuner-1.1.3-py3-none-any.whl (135 kB)\n",
            "\u001b[?25l\r\u001b[K     |██▍                             | 10 kB 27.9 MB/s eta 0:00:01\r\u001b[K     |████▉                           | 20 kB 9.8 MB/s eta 0:00:01\r\u001b[K     |███████▎                        | 30 kB 13.7 MB/s eta 0:00:01\r\u001b[K     |█████████▋                      | 40 kB 5.7 MB/s eta 0:00:01\r\u001b[K     |████████████                    | 51 kB 6.0 MB/s eta 0:00:01\r\u001b[K     |██████████████▌                 | 61 kB 7.1 MB/s eta 0:00:01\r\u001b[K     |█████████████████               | 71 kB 7.5 MB/s eta 0:00:01\r\u001b[K     |███████████████████▎            | 81 kB 7.5 MB/s eta 0:00:01\r\u001b[K     |█████████████████████▊          | 92 kB 8.3 MB/s eta 0:00:01\r\u001b[K     |████████████████████████▏       | 102 kB 6.9 MB/s eta 0:00:01\r\u001b[K     |██████████████████████████▋     | 112 kB 6.9 MB/s eta 0:00:01\r\u001b[K     |█████████████████████████████   | 122 kB 6.9 MB/s eta 0:00:01\r\u001b[K     |███████████████████████████████▍| 133 kB 6.9 MB/s eta 0:00:01\r\u001b[K     |████████████████████████████████| 135 kB 6.9 MB/s \n",
            "\u001b[?25hRequirement already satisfied: packaging in /usr/local/lib/python3.7/dist-packages (from keras-tuner) (21.3)\n",
            "Requirement already satisfied: tensorboard in /usr/local/lib/python3.7/dist-packages (from keras-tuner) (2.8.0)\n",
            "Requirement already satisfied: ipython in /usr/local/lib/python3.7/dist-packages (from keras-tuner) (7.9.0)\n",
            "Requirement already satisfied: numpy in /usr/local/lib/python3.7/dist-packages (from keras-tuner) (1.21.6)\n",
            "Requirement already satisfied: requests in /usr/local/lib/python3.7/dist-packages (from keras-tuner) (2.23.0)\n",
            "Collecting kt-legacy\n",
            "  Downloading kt_legacy-1.0.4-py3-none-any.whl (9.6 kB)\n",
            "Requirement already satisfied: pickleshare in /usr/local/lib/python3.7/dist-packages (from ipython->keras-tuner) (0.7.5)\n",
            "Requirement already satisfied: setuptools>=18.5 in /usr/local/lib/python3.7/dist-packages (from ipython->keras-tuner) (57.4.0)\n",
            "Requirement already satisfied: prompt-toolkit<2.1.0,>=2.0.0 in /usr/local/lib/python3.7/dist-packages (from ipython->keras-tuner) (2.0.10)\n",
            "Requirement already satisfied: backcall in /usr/local/lib/python3.7/dist-packages (from ipython->keras-tuner) (0.2.0)\n",
            "Collecting jedi>=0.10\n",
            "  Downloading jedi-0.18.1-py2.py3-none-any.whl (1.6 MB)\n",
            "\u001b[K     |████████████████████████████████| 1.6 MB 40.0 MB/s \n",
            "\u001b[?25hRequirement already satisfied: pygments in /usr/local/lib/python3.7/dist-packages (from ipython->keras-tuner) (2.6.1)\n",
            "Requirement already satisfied: traitlets>=4.2 in /usr/local/lib/python3.7/dist-packages (from ipython->keras-tuner) (5.1.1)\n",
            "Requirement already satisfied: decorator in /usr/local/lib/python3.7/dist-packages (from ipython->keras-tuner) (4.4.2)\n",
            "Requirement already satisfied: pexpect in /usr/local/lib/python3.7/dist-packages (from ipython->keras-tuner) (4.8.0)\n",
            "Requirement already satisfied: parso<0.9.0,>=0.8.0 in /usr/local/lib/python3.7/dist-packages (from jedi>=0.10->ipython->keras-tuner) (0.8.3)\n",
            "Requirement already satisfied: six>=1.9.0 in /usr/local/lib/python3.7/dist-packages (from prompt-toolkit<2.1.0,>=2.0.0->ipython->keras-tuner) (1.15.0)\n",
            "Requirement already satisfied: wcwidth in /usr/local/lib/python3.7/dist-packages (from prompt-toolkit<2.1.0,>=2.0.0->ipython->keras-tuner) (0.2.5)\n",
            "Requirement already satisfied: pyparsing!=3.0.5,>=2.0.2 in /usr/local/lib/python3.7/dist-packages (from packaging->keras-tuner) (3.0.9)\n",
            "Requirement already satisfied: ptyprocess>=0.5 in /usr/local/lib/python3.7/dist-packages (from pexpect->ipython->keras-tuner) (0.7.0)\n",
            "Requirement already satisfied: chardet<4,>=3.0.2 in /usr/local/lib/python3.7/dist-packages (from requests->keras-tuner) (3.0.4)\n",
            "Requirement already satisfied: idna<3,>=2.5 in /usr/local/lib/python3.7/dist-packages (from requests->keras-tuner) (2.10)\n",
            "Requirement already satisfied: urllib3!=1.25.0,!=1.25.1,<1.26,>=1.21.1 in /usr/local/lib/python3.7/dist-packages (from requests->keras-tuner) (1.24.3)\n",
            "Requirement already satisfied: certifi>=2017.4.17 in /usr/local/lib/python3.7/dist-packages (from requests->keras-tuner) (2022.6.15)\n",
            "Requirement already satisfied: google-auth-oauthlib<0.5,>=0.4.1 in /usr/local/lib/python3.7/dist-packages (from tensorboard->keras-tuner) (0.4.6)\n",
            "Requirement already satisfied: werkzeug>=0.11.15 in /usr/local/lib/python3.7/dist-packages (from tensorboard->keras-tuner) (1.0.1)\n",
            "Requirement already satisfied: tensorboard-data-server<0.7.0,>=0.6.0 in /usr/local/lib/python3.7/dist-packages (from tensorboard->keras-tuner) (0.6.1)\n",
            "Requirement already satisfied: grpcio>=1.24.3 in /usr/local/lib/python3.7/dist-packages (from tensorboard->keras-tuner) (1.48.1)\n",
            "Requirement already satisfied: absl-py>=0.4 in /usr/local/lib/python3.7/dist-packages (from tensorboard->keras-tuner) (1.2.0)\n",
            "Requirement already satisfied: tensorboard-plugin-wit>=1.6.0 in /usr/local/lib/python3.7/dist-packages (from tensorboard->keras-tuner) (1.8.1)\n",
            "Requirement already satisfied: protobuf>=3.6.0 in /usr/local/lib/python3.7/dist-packages (from tensorboard->keras-tuner) (3.17.3)\n",
            "Requirement already satisfied: markdown>=2.6.8 in /usr/local/lib/python3.7/dist-packages (from tensorboard->keras-tuner) (3.4.1)\n",
            "Requirement already satisfied: wheel>=0.26 in /usr/local/lib/python3.7/dist-packages (from tensorboard->keras-tuner) (0.37.1)\n",
            "Requirement already satisfied: google-auth<3,>=1.6.3 in /usr/local/lib/python3.7/dist-packages (from tensorboard->keras-tuner) (1.35.0)\n",
            "Requirement already satisfied: rsa<5,>=3.1.4 in /usr/local/lib/python3.7/dist-packages (from google-auth<3,>=1.6.3->tensorboard->keras-tuner) (4.9)\n",
            "Requirement already satisfied: cachetools<5.0,>=2.0.0 in /usr/local/lib/python3.7/dist-packages (from google-auth<3,>=1.6.3->tensorboard->keras-tuner) (4.2.4)\n",
            "Requirement already satisfied: pyasn1-modules>=0.2.1 in /usr/local/lib/python3.7/dist-packages (from google-auth<3,>=1.6.3->tensorboard->keras-tuner) (0.2.8)\n",
            "Requirement already satisfied: requests-oauthlib>=0.7.0 in /usr/local/lib/python3.7/dist-packages (from google-auth-oauthlib<0.5,>=0.4.1->tensorboard->keras-tuner) (1.3.1)\n",
            "Requirement already satisfied: importlib-metadata>=4.4 in /usr/local/lib/python3.7/dist-packages (from markdown>=2.6.8->tensorboard->keras-tuner) (4.12.0)\n",
            "Requirement already satisfied: typing-extensions>=3.6.4 in /usr/local/lib/python3.7/dist-packages (from importlib-metadata>=4.4->markdown>=2.6.8->tensorboard->keras-tuner) (4.1.1)\n",
            "Requirement already satisfied: zipp>=0.5 in /usr/local/lib/python3.7/dist-packages (from importlib-metadata>=4.4->markdown>=2.6.8->tensorboard->keras-tuner) (3.8.1)\n",
            "Requirement already satisfied: pyasn1<0.5.0,>=0.4.6 in /usr/local/lib/python3.7/dist-packages (from pyasn1-modules>=0.2.1->google-auth<3,>=1.6.3->tensorboard->keras-tuner) (0.4.8)\n",
            "Requirement already satisfied: oauthlib>=3.0.0 in /usr/local/lib/python3.7/dist-packages (from requests-oauthlib>=0.7.0->google-auth-oauthlib<0.5,>=0.4.1->tensorboard->keras-tuner) (3.2.0)\n",
            "Installing collected packages: jedi, kt-legacy, keras-tuner\n",
            "Successfully installed jedi-0.18.1 keras-tuner-1.1.3 kt-legacy-1.0.4\n"
          ]
        }
      ],
      "source": [
        "#Import the required libraries\n",
        "!pip install keras-tuner\n",
        "import cv2\n",
        "import matplotlib.pyplot as plt\n",
        "import matplotlib.image as mpimg\n",
        "import seaborn as sns\n",
        "import pathlib, os, random\n",
        "import numpy as np\n",
        "import pandas as pd\n",
        "import tensorflow as tf\n",
        "import tensorflow as tf\n",
        "from PIL import Image\n",
        "from keras.utils import np_utils\n",
        "from sklearn.model_selection import train_test_split\n",
        "import time\n",
        "import keras\n",
        "from tensorflow.keras.optimizers import Adam\n",
        "from tensorflow.keras.layers import Dense, Flatten, Conv2D, MaxPooling2D, Activation, BatchNormalization, Dropout\n",
        "from tensorflow.keras.preprocessing.image import ImageDataGenerator\n",
        "from tensorflow.keras import Sequential\n",
        "from keras_tuner import RandomSearch\n",
        "from keras_tuner.engine.hyperparameters import HyperParameters\n",
        "from sklearn.ensemble import RandomForestClassifier\n",
        "from sklearn.model_selection import GridSearchCV\n",
        "from sklearn.preprocessing import MinMaxScaler\n",
        "\n",
        "\n",
        "import cv2\n",
        "import matplotlib.pyplot as plt \n",
        "import seaborn as sns\n",
        "import os\n",
        "from PIL import Image\n",
        "from tensorflow.keras.utils import img_to_array\n",
        "from tensorflow.keras.utils import load_img\n",
        "from keras.utils import np_utils"
      ]
    },
    {
      "cell_type": "code",
      "source": [],
      "metadata": {
        "id": "FLJH8giBiuAo"
      },
      "execution_count": null,
      "outputs": []
    },
    {
      "cell_type": "code",
      "source": [
        "#Understanding the files in different data directories\n",
        "bad_data = os.listdir('/content/drive/MyDrive/Ethiopia_2/Bad')\n",
        "print(\"Bad coffee beans: \",bad_data[:10])\n",
        "\n",
        "good_data = os.listdir('/content/drive/MyDrive/Ethiopia_2/Good')\n",
        "print(\"Good coffee beans: \",good_data[:10])"
      ],
      "metadata": {
        "colab": {
          "base_uri": "https://localhost:8080/"
        },
        "id": "t_N_uZisijgA",
        "outputId": "4995619d-5c11-450a-8684-005a185d2773"
      },
      "execution_count": 2,
      "outputs": [
        {
          "output_type": "stream",
          "name": "stdout",
          "text": [
            "Bad coffee beans:  ['IMG_5979_9.jpg', 'IMG_5980_2.jpg', 'IMG_5980_6.jpg', 'IMG_5980_7.jpg', 'IMG_5979_4.jpg', 'IMG_5979_1.jpg', 'IMG_5979_5.jpg', 'IMG_5979_7.jpg', 'IMG_5979_3.jpg', 'IMG_5980_1.jpg']\n",
            "Good coffee beans:  ['IMG_5917_8.jpg', 'IMG_5917_3.jpg', 'IMG_5917_7.jpg', 'IMG_5917_9.jpg', 'IMG_5917_5.jpg', 'IMG_5917_2.jpg', 'IMG_5918_1.jpg', 'IMG_5917_1.jpg', 'IMG_5918_5.jpg', 'IMG_5917_6.jpg']\n"
          ]
        }
      ]
    },
    {
      "cell_type": "code",
      "source": [
        "data = []\n",
        "labels = []\n",
        "for img in bad_data:\n",
        "    try:\n",
        "        img_read = plt.imread('/content/drive/MyDrive/Ethiopia_2/Bad' + \"/\" + img)\n",
        "        img_resize = cv2.resize(img_read, (256,256))\n",
        "        img_array = img_to_array(img_resize)\n",
        "        data.append(img_array)\n",
        "        labels.append(1)\n",
        "    except:\n",
        "        None\n",
        "        \n",
        "for img in good_data:\n",
        "    try:\n",
        "        img_read = plt.imread('/content/drive/MyDrive/Ethiopia_2/Good' + \"/\" + img)\n",
        "        img_resize = cv2.resize(img_read, (256,256))\n",
        "        img_array = img_to_array(img_resize)\n",
        "        data.append(img_array)\n",
        "        labels.append(0)\n",
        "    except:\n",
        "        None"
      ],
      "metadata": {
        "id": "1TCZsD54lhRV"
      },
      "execution_count": 3,
      "outputs": []
    },
    {
      "cell_type": "code",
      "source": [
        "image_data = np.array(data)\n",
        "labels = np.array(labels)\n",
        "\n",
        "idx = np.arange(image_data.shape[0])\n",
        "np.random.shuffle(idx)\n",
        "image_data = image_data[idx]\n",
        "labels = labels[idx]"
      ],
      "metadata": {
        "id": "UKVE-7FMlpzs"
      },
      "execution_count": 4,
      "outputs": []
    },
    {
      "cell_type": "code",
      "source": [
        "from sklearn.model_selection import train_test_split\n",
        "x_train, x_test, y_train, y_test = train_test_split(image_data, labels, test_size = 0.2, random_state = 101)\n",
        "\n",
        "y_train = np_utils.to_categorical(y_train, num_classes = 2)\n",
        "y_test = np_utils.to_categorical(y_test, num_classes = 2)\n",
        "\n",
        "print(f'SHAPE OF TRAINING IMAGE DATA : {x_train.shape}')\n",
        "print(f'SHAPE OF TESTING IMAGE DATA : {x_test.shape}')\n",
        "print(f'SHAPE OF TRAINING LABELS : {y_train.shape}')\n",
        "print(f'SHAPE OF TESTING LABELS : {y_test.shape}')"
      ],
      "metadata": {
        "colab": {
          "base_uri": "https://localhost:8080/"
        },
        "id": "uvGJBUCymUjn",
        "outputId": "363bb6f1-31c7-4c98-8ec2-f275b5db25c5"
      },
      "execution_count": 5,
      "outputs": [
        {
          "output_type": "stream",
          "name": "stdout",
          "text": [
            "SHAPE OF TRAINING IMAGE DATA : (22, 256, 256, 3)\n",
            "SHAPE OF TESTING IMAGE DATA : (6, 256, 256, 3)\n",
            "SHAPE OF TRAINING LABELS : (22, 2)\n",
            "SHAPE OF TESTING LABELS : (6, 2)\n"
          ]
        }
      ]
    },
    {
      "cell_type": "code",
      "source": [
        "!pip install hyperactive==0.3.1\n",
        "import hyperactive as hyp"
      ],
      "metadata": {
        "colab": {
          "base_uri": "https://localhost:8080/"
        },
        "id": "MEhCPIAFmWyi",
        "outputId": "2a3ec817-a9d5-41db-8707-0904c3a2bff4"
      },
      "execution_count": 6,
      "outputs": [
        {
          "output_type": "stream",
          "name": "stdout",
          "text": [
            "Looking in indexes: https://pypi.org/simple, https://us-python.pkg.dev/colab-wheels/public/simple/\n",
            "Collecting hyperactive==0.3.1\n",
            "  Downloading hyperactive-0.3.1-py3-none-any.whl (22 kB)\n",
            "Requirement already satisfied: scikit-learn>=0.18 in /usr/local/lib/python3.7/dist-packages (from hyperactive==0.3.1) (1.0.2)\n",
            "Requirement already satisfied: keras in /usr/local/lib/python3.7/dist-packages (from hyperactive==0.3.1) (2.8.0)\n",
            "Requirement already satisfied: tqdm in /usr/local/lib/python3.7/dist-packages (from hyperactive==0.3.1) (4.64.1)\n",
            "Requirement already satisfied: numpy in /usr/local/lib/python3.7/dist-packages (from hyperactive==0.3.1) (1.21.6)\n",
            "Requirement already satisfied: threadpoolctl>=2.0.0 in /usr/local/lib/python3.7/dist-packages (from scikit-learn>=0.18->hyperactive==0.3.1) (3.1.0)\n",
            "Requirement already satisfied: scipy>=1.1.0 in /usr/local/lib/python3.7/dist-packages (from scikit-learn>=0.18->hyperactive==0.3.1) (1.7.3)\n",
            "Requirement already satisfied: joblib>=0.11 in /usr/local/lib/python3.7/dist-packages (from scikit-learn>=0.18->hyperactive==0.3.1) (1.1.0)\n",
            "Installing collected packages: hyperactive\n",
            "Successfully installed hyperactive-0.3.1\n"
          ]
        }
      ]
    },
    {
      "cell_type": "code",
      "source": [
        "search_config = {\n",
        "    \"keras.compile.0\": {\"loss\": [\"binary_crossentropy\"], \"optimizer\": [\"adam\"]},\n",
        "    \"keras.fit.0\": {\"epochs\": [5], \"batch_size\": [32], \"verbose\": [2]},\n",
        "    \"keras.layers.Conv2D.1\": {\n",
        "        \"filters\": [32, 64, 128],\n",
        "        \"kernel_size\": [(3, 3)],\n",
        "        \"activation\": [\"relu\"],\n",
        "        \"input_shape\": [(256,256,3)],\n",
        "    },\n",
        "    \"keras.layers.MaxPooling2D.2\": {\"pool_size\": [(2, 2)]},\n",
        "    \"keras.layers.Conv2D.3\": {\n",
        "        \"filters\": [16, 32, 64, 128],\n",
        "        \"kernel_size\": [(3, 3)],\n",
        "        \"activation\": [\"relu\"],\n",
        "    },\n",
        "    \"keras.layers.MaxPooling2D.4\": {\"pool_size\": [(2, 2)]},\n",
        "    \"keras.layers.Flatten.5\": {},\n",
        "    \"keras.layers.Dense.6\": {\"units\": range(30, 100, 10), \"activation\": [\"relu\"]},\n",
        "    \"keras.layers.Dropout.7\": {\"rate\": list(np.arange(0.2, 0.8, 0.2))},\n",
        "    \"keras.layers.Dense.8\": {\"units\": [2], \"activation\": [\"softmax\"]},\n",
        "}\n",
        "start_point = {\n",
        "    \"keras.compile.0\": {\"loss\": [\"binary_crossentropy\"], \"optimizer\": [\"adam\"]},\n",
        "    \"keras.fit.0\": {\"epochs\": [5], \"batch_size\": [32], \"verbose\": [2]},\n",
        "    \"keras.layers.Conv2D.1\": {\n",
        "        \"filters\": [64],\n",
        "        \"kernel_size\": [(3, 3)],\n",
        "        \"activation\": [\"relu\"],\n",
        "        \"input_shape\": [(256,256,3)],\n",
        "    },\n",
        "    \"keras.layers.MaxPooling2D.2\": {\"pool_size\": [(2, 2)]},\n",
        "    \"keras.layers.Conv2D.3\": {\n",
        "        \"filters\": [32],\n",
        "        \"kernel_size\": [(3, 3)],\n",
        "        \"activation\": [\"relu\"],\n",
        "    },\n",
        "    \"keras.layers.MaxPooling2D.4\": {\"pool_size\": [(2, 2)]},\n",
        "    \"keras.layers.Flatten.5\": {},\n",
        "    \"keras.layers.Dense.6\": {\"units\": [30], \"activation\": [\"relu\"]},\n",
        "    \"keras.layers.Dropout.7\": {\"rate\": [0.2]},\n",
        "    \"keras.layers.Dense.8\": {\"units\": [2], \"activation\": [\"softmax\"]},\n",
        "}\n",
        "\n",
        "\n",
        "#https://pypi.org/project/hyperactive/0.3.1/ \n",
        "Optimizer = hyp.ParticleSwarmOptimizer(search_config, n_iter=3,warm_start=start_point, metric=\"accuracy\", n_jobs=1, cv=3, verbosity=1, random_state=42, n_part=3, w=0.85, c_k=1.9, c_s=2.05)"
      ],
      "metadata": {
        "id": "JqMmOXKLmahh"
      },
      "execution_count": 7,
      "outputs": []
    },
    {
      "cell_type": "code",
      "source": [
        "import time\n",
        "t1 = time.time()\n",
        "# search best hyperparameter for given data\n",
        "h = Optimizer.fit(x_train, y_train)\n",
        "\n",
        "t2 = time.time()\n",
        "print(\"time: {}\".format(t2-t1))\n",
        "\n",
        "# predict from test data\n",
        "Optimizer.predict(x_test)\n",
        "\n",
        "# calculate accuracy score\n",
        "score = Optimizer.score(x_test, y_test)\n",
        "\n",
        "print(\"test score: {}\".format(score))"
      ],
      "metadata": {
        "colab": {
          "base_uri": "https://localhost:8080/"
        },
        "id": "0-zh19C0mhKZ",
        "outputId": "7e682b2d-b7c6-4841-96df-b7f670a9d284"
      },
      "execution_count": 8,
      "outputs": [
        {
          "output_type": "stream",
          "name": "stdout",
          "text": [
            "Epoch 1/5\n",
            "1/1 - 15s - loss: 20.0147 - accuracy: 0.4545 - 15s/epoch - 15s/step\n",
            "Epoch 2/5\n",
            "1/1 - 0s - loss: 1387.6483 - accuracy: 0.5000 - 59ms/epoch - 59ms/step\n",
            "Epoch 3/5\n",
            "1/1 - 0s - loss: 749.2117 - accuracy: 0.5000 - 50ms/epoch - 50ms/step\n",
            "Epoch 4/5\n",
            "1/1 - 0s - loss: 220.9611 - accuracy: 0.3636 - 50ms/epoch - 50ms/step\n",
            "Epoch 5/5\n",
            "1/1 - 0s - loss: 10.6339 - accuracy: 0.5000 - 50ms/epoch - 50ms/step\n",
            "1/1 [==============================] - 0s 161ms/step - loss: 0.6931 - accuracy: 0.5000\n"
          ]
        },
        {
          "output_type": "stream",
          "name": "stderr",
          "text": [
            "\r  0%|          | 0/3 [00:00<?, ?it/s]"
          ]
        },
        {
          "output_type": "stream",
          "name": "stdout",
          "text": [
            "Epoch 1/5\n",
            "1/1 - 1s - loss: 50.0458 - accuracy: 0.4091 - 903ms/epoch - 903ms/step\n",
            "Epoch 2/5\n",
            "1/1 - 0s - loss: 1849.6711 - accuracy: 0.5000 - 35ms/epoch - 35ms/step\n",
            "Epoch 3/5\n",
            "1/1 - 0s - loss: 1175.1753 - accuracy: 0.5000 - 33ms/epoch - 33ms/step\n",
            "Epoch 4/5\n",
            "1/1 - 0s - loss: 474.3049 - accuracy: 0.4091 - 33ms/epoch - 33ms/step\n",
            "Epoch 5/5\n",
            "1/1 - 0s - loss: 443.1378 - accuracy: 0.3182 - 30ms/epoch - 30ms/step\n",
            "1/1 [==============================] - 0s 130ms/step - loss: 247.9088 - accuracy: 0.5000\n",
            "Epoch 1/5\n",
            "1/1 - 1s - loss: 73.9390 - accuracy: 0.4545 - 775ms/epoch - 775ms/step\n",
            "Epoch 2/5\n",
            "1/1 - 0s - loss: 1068.8752 - accuracy: 0.5000 - 50ms/epoch - 50ms/step\n",
            "Epoch 3/5\n",
            "1/1 - 0s - loss: 400.7804 - accuracy: 0.5000 - 50ms/epoch - 50ms/step\n",
            "Epoch 4/5\n",
            "1/1 - 0s - loss: 109.3046 - accuracy: 0.4545 - 46ms/epoch - 46ms/step\n",
            "Epoch 5/5\n",
            "1/1 - 0s - loss: 15.7340 - accuracy: 0.6364 - 46ms/epoch - 46ms/step\n",
            "1/1 [==============================] - 0s 135ms/step - loss: 10.0354 - accuracy: 0.5000\n",
            "Epoch 1/5\n",
            "1/1 - 2s - loss: 33.4025 - accuracy: 0.4545 - 2s/epoch - 2s/step\n",
            "Epoch 2/5\n",
            "1/1 - 0s - loss: 2500.4844 - accuracy: 0.6364 - 108ms/epoch - 108ms/step\n",
            "Epoch 3/5\n",
            "1/1 - 0s - loss: 802.9576 - accuracy: 0.3636 - 99ms/epoch - 99ms/step\n",
            "Epoch 4/5\n",
            "1/1 - 0s - loss: 306.3696 - accuracy: 0.4091 - 101ms/epoch - 101ms/step\n",
            "Epoch 5/5\n",
            "1/1 - 0s - loss: 68.9104 - accuracy: 0.7273 - 98ms/epoch - 98ms/step\n",
            "1/1 [==============================] - 0s 154ms/step - loss: 20.4489 - accuracy: 0.5000\n"
          ]
        },
        {
          "output_type": "stream",
          "name": "stderr",
          "text": [
            "\r 33%|███▎      | 1/3 [00:05<00:11,  5.96s/it]"
          ]
        },
        {
          "output_type": "stream",
          "name": "stdout",
          "text": [
            "Epoch 1/5\n",
            "1/1 - 1s - loss: 16.6832 - accuracy: 0.4091 - 537ms/epoch - 537ms/step\n",
            "Epoch 2/5\n",
            "1/1 - 0s - loss: 1898.8013 - accuracy: 0.5000 - 35ms/epoch - 35ms/step\n",
            "Epoch 3/5\n",
            "1/1 - 0s - loss: 1113.9016 - accuracy: 0.5000 - 35ms/epoch - 35ms/step\n",
            "Epoch 4/5\n",
            "1/1 - 0s - loss: 126.5820 - accuracy: 0.5000 - 31ms/epoch - 31ms/step\n",
            "Epoch 5/5\n",
            "1/1 - 0s - loss: 194.5790 - accuracy: 0.5455 - 30ms/epoch - 30ms/step\n"
          ]
        },
        {
          "output_type": "stream",
          "name": "stderr",
          "text": [
            "WARNING:tensorflow:5 out of the last 5 calls to <function Model.make_test_function.<locals>.test_function at 0x7f7ea24d6290> triggered tf.function retracing. Tracing is expensive and the excessive number of tracings could be due to (1) creating @tf.function repeatedly in a loop, (2) passing tensors with different shapes, (3) passing Python objects instead of tensors. For (1), please define your @tf.function outside of the loop. For (2), @tf.function has experimental_relax_shapes=True option that relaxes argument shapes that can avoid unnecessary retracing. For (3), please refer to https://www.tensorflow.org/guide/function#controlling_retracing and https://www.tensorflow.org/api_docs/python/tf/function for  more details.\n"
          ]
        },
        {
          "output_type": "stream",
          "name": "stdout",
          "text": [
            "1/1 [==============================] - 0s 139ms/step - loss: 191.0388 - accuracy: 0.5000\n",
            "Epoch 1/5\n",
            "1/1 - 1s - loss: 29.8486 - accuracy: 0.5000 - 565ms/epoch - 565ms/step\n",
            "Epoch 2/5\n",
            "1/1 - 0s - loss: 930.2043 - accuracy: 0.5000 - 53ms/epoch - 53ms/step\n",
            "Epoch 3/5\n",
            "1/1 - 0s - loss: 316.1750 - accuracy: 0.5000 - 57ms/epoch - 57ms/step\n",
            "Epoch 4/5\n",
            "1/1 - 0s - loss: 89.6306 - accuracy: 0.5000 - 53ms/epoch - 53ms/step\n",
            "Epoch 5/5\n",
            "1/1 - 0s - loss: 44.1934 - accuracy: 0.5455 - 53ms/epoch - 53ms/step\n"
          ]
        },
        {
          "output_type": "stream",
          "name": "stderr",
          "text": [
            "WARNING:tensorflow:6 out of the last 6 calls to <function Model.make_test_function.<locals>.test_function at 0x7f7ea2393680> triggered tf.function retracing. Tracing is expensive and the excessive number of tracings could be due to (1) creating @tf.function repeatedly in a loop, (2) passing tensors with different shapes, (3) passing Python objects instead of tensors. For (1), please define your @tf.function outside of the loop. For (2), @tf.function has experimental_relax_shapes=True option that relaxes argument shapes that can avoid unnecessary retracing. For (3), please refer to https://www.tensorflow.org/guide/function#controlling_retracing and https://www.tensorflow.org/api_docs/python/tf/function for  more details.\n"
          ]
        },
        {
          "output_type": "stream",
          "name": "stdout",
          "text": [
            "1/1 [==============================] - 0s 164ms/step - loss: 13.8977 - accuracy: 0.5000\n",
            "Epoch 1/5\n",
            "1/1 - 1s - loss: 13.2611 - accuracy: 0.4545 - 526ms/epoch - 526ms/step\n",
            "Epoch 2/5\n",
            "1/1 - 0s - loss: 861.7039 - accuracy: 0.5455 - 35ms/epoch - 35ms/step\n",
            "Epoch 3/5\n",
            "1/1 - 0s - loss: 244.2320 - accuracy: 0.5455 - 35ms/epoch - 35ms/step\n",
            "Epoch 4/5\n",
            "1/1 - 0s - loss: 67.8657 - accuracy: 0.5455 - 29ms/epoch - 29ms/step\n",
            "Epoch 5/5\n",
            "1/1 - 0s - loss: 8.6044 - accuracy: 0.5000 - 29ms/epoch - 29ms/step\n",
            "1/1 [==============================] - 0s 124ms/step - loss: 0.7494 - accuracy: 0.6818\n"
          ]
        },
        {
          "output_type": "stream",
          "name": "stderr",
          "text": [
            "\r 67%|██████▋   | 2/3 [00:09<00:04,  4.26s/it]"
          ]
        },
        {
          "output_type": "stream",
          "name": "stdout",
          "text": [
            "Epoch 1/5\n",
            "1/1 - 1s - loss: 21.6093 - accuracy: 0.4091 - 537ms/epoch - 537ms/step\n",
            "Epoch 2/5\n",
            "1/1 - 0s - loss: 267.2184 - accuracy: 0.5000 - 34ms/epoch - 34ms/step\n",
            "Epoch 3/5\n",
            "1/1 - 0s - loss: 147.2806 - accuracy: 0.5000 - 33ms/epoch - 33ms/step\n",
            "Epoch 4/5\n",
            "1/1 - 0s - loss: 27.7311 - accuracy: 0.4091 - 31ms/epoch - 31ms/step\n",
            "Epoch 5/5\n",
            "1/1 - 0s - loss: 0.8167 - accuracy: 0.6364 - 31ms/epoch - 31ms/step\n",
            "1/1 [==============================] - 0s 131ms/step - loss: 0.7036 - accuracy: 0.5000\n",
            "Epoch 1/5\n",
            "1/1 - 1s - loss: 19.4549 - accuracy: 0.5000 - 684ms/epoch - 684ms/step\n",
            "Epoch 2/5\n",
            "1/1 - 0s - loss: 1177.3665 - accuracy: 0.5000 - 37ms/epoch - 37ms/step\n",
            "Epoch 3/5\n",
            "1/1 - 0s - loss: 621.4453 - accuracy: 0.5000 - 38ms/epoch - 38ms/step\n",
            "Epoch 4/5\n",
            "1/1 - 0s - loss: 245.0368 - accuracy: 0.5000 - 34ms/epoch - 34ms/step\n",
            "Epoch 5/5\n",
            "1/1 - 0s - loss: 17.0015 - accuracy: 0.5000 - 32ms/epoch - 32ms/step\n",
            "1/1 [==============================] - 0s 125ms/step - loss: 11.1063 - accuracy: 0.5000\n",
            "Epoch 1/5\n",
            "1/1 - 1s - loss: 19.9669 - accuracy: 0.5000 - 516ms/epoch - 516ms/step\n",
            "Epoch 2/5\n",
            "1/1 - 0s - loss: 1059.5996 - accuracy: 0.5000 - 30ms/epoch - 30ms/step\n",
            "Epoch 3/5\n",
            "1/1 - 0s - loss: 606.0547 - accuracy: 0.5000 - 35ms/epoch - 35ms/step\n",
            "Epoch 4/5\n",
            "1/1 - 0s - loss: 146.6633 - accuracy: 0.3636 - 30ms/epoch - 30ms/step\n",
            "Epoch 5/5\n",
            "1/1 - 0s - loss: 31.3173 - accuracy: 0.5000 - 31ms/epoch - 31ms/step\n",
            "1/1 [==============================] - 0s 135ms/step - loss: 24.5659 - accuracy: 0.5000\n"
          ]
        },
        {
          "output_type": "stream",
          "name": "stderr",
          "text": [
            "                                             "
          ]
        },
        {
          "output_type": "stream",
          "name": "stdout",
          "text": [
            "\n",
            " accuracy 0.6818181872367859\n",
            "start_point = {'keras.compile.0': {'loss': ['binary_crossentropy'], 'optimizer': ['adam']}, 'keras.fit.0': {'epochs': [5], 'batch_size': [32], 'verbose': [2]}, 'keras.layers.Conv2D.1': {'filters': [32], 'kernel_size': [(3, 3)], 'activation': ['relu'], 'input_shape': [(256, 256, 3)]}, 'keras.layers.MaxPooling2D.2': {'pool_size': [(2, 2)]}, 'keras.layers.Conv2D.3': {'filters': [16], 'kernel_size': [(3, 3)], 'activation': ['relu']}, 'keras.layers.MaxPooling2D.4': {'pool_size': [(2, 2)]}, 'keras.layers.Flatten.5': {}, 'keras.layers.Dense.6': {'units': [30], 'activation': ['relu']}, 'keras.layers.Dropout.7': {'rate': [0.2]}, 'keras.layers.Dense.8': {'units': [2], 'activation': ['softmax']}}\n",
            "1/1 [==============================] - 0s 58ms/step - loss: 0.6931 - accuracy: 0.5000\n",
            "time: 37.81761717796326\n"
          ]
        },
        {
          "output_type": "stream",
          "name": "stderr",
          "text": [
            "\r"
          ]
        },
        {
          "output_type": "stream",
          "name": "stdout",
          "text": [
            "1/1 [==============================] - 0s 28ms/step - loss: 0.6931 - accuracy: 0.5000\n",
            "test score: 0.5\n"
          ]
        }
      ]
    },
    {
      "cell_type": "code",
      "source": [],
      "metadata": {
        "id": "7bbfMDXnmj-S"
      },
      "execution_count": null,
      "outputs": []
    }
  ]
}