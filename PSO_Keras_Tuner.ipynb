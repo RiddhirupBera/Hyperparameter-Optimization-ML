{
  "nbformat": 4,
  "nbformat_minor": 0,
  "metadata": {
    "colab": {
      "provenance": []
    },
    "kernelspec": {
      "name": "python3",
      "display_name": "Python 3"
    },
    "language_info": {
      "name": "python"
    },
    "accelerator": "GPU"
  },
  "cells": [
    {
      "cell_type": "code",
      "execution_count": 1,
      "metadata": {
        "colab": {
          "base_uri": "https://localhost:8080/"
        },
        "id": "pfTCVO3kifgN",
        "outputId": "1be96ca6-f385-4d6e-b50f-930ea94a0a86"
      },
      "outputs": [
        {
          "output_type": "stream",
          "name": "stdout",
          "text": [
            "Looking in indexes: https://pypi.org/simple, https://us-python.pkg.dev/colab-wheels/public/simple/\n",
            "Requirement already satisfied: keras-tuner in /usr/local/lib/python3.7/dist-packages (1.1.3)\n",
            "Requirement already satisfied: tensorboard in /usr/local/lib/python3.7/dist-packages (from keras-tuner) (2.8.0)\n",
            "Requirement already satisfied: kt-legacy in /usr/local/lib/python3.7/dist-packages (from keras-tuner) (1.0.4)\n",
            "Requirement already satisfied: numpy in /usr/local/lib/python3.7/dist-packages (from keras-tuner) (1.21.6)\n",
            "Requirement already satisfied: ipython in /usr/local/lib/python3.7/dist-packages (from keras-tuner) (7.9.0)\n",
            "Requirement already satisfied: requests in /usr/local/lib/python3.7/dist-packages (from keras-tuner) (2.23.0)\n",
            "Requirement already satisfied: packaging in /usr/local/lib/python3.7/dist-packages (from keras-tuner) (21.3)\n",
            "Requirement already satisfied: pickleshare in /usr/local/lib/python3.7/dist-packages (from ipython->keras-tuner) (0.7.5)\n",
            "Requirement already satisfied: prompt-toolkit<2.1.0,>=2.0.0 in /usr/local/lib/python3.7/dist-packages (from ipython->keras-tuner) (2.0.10)\n",
            "Requirement already satisfied: setuptools>=18.5 in /usr/local/lib/python3.7/dist-packages (from ipython->keras-tuner) (57.4.0)\n",
            "Requirement already satisfied: backcall in /usr/local/lib/python3.7/dist-packages (from ipython->keras-tuner) (0.2.0)\n",
            "Requirement already satisfied: jedi>=0.10 in /usr/local/lib/python3.7/dist-packages (from ipython->keras-tuner) (0.18.1)\n",
            "Requirement already satisfied: decorator in /usr/local/lib/python3.7/dist-packages (from ipython->keras-tuner) (4.4.2)\n",
            "Requirement already satisfied: pygments in /usr/local/lib/python3.7/dist-packages (from ipython->keras-tuner) (2.6.1)\n",
            "Requirement already satisfied: pexpect in /usr/local/lib/python3.7/dist-packages (from ipython->keras-tuner) (4.8.0)\n",
            "Requirement already satisfied: traitlets>=4.2 in /usr/local/lib/python3.7/dist-packages (from ipython->keras-tuner) (5.1.1)\n",
            "Requirement already satisfied: parso<0.9.0,>=0.8.0 in /usr/local/lib/python3.7/dist-packages (from jedi>=0.10->ipython->keras-tuner) (0.8.3)\n",
            "Requirement already satisfied: wcwidth in /usr/local/lib/python3.7/dist-packages (from prompt-toolkit<2.1.0,>=2.0.0->ipython->keras-tuner) (0.2.5)\n",
            "Requirement already satisfied: six>=1.9.0 in /usr/local/lib/python3.7/dist-packages (from prompt-toolkit<2.1.0,>=2.0.0->ipython->keras-tuner) (1.15.0)\n",
            "Requirement already satisfied: pyparsing!=3.0.5,>=2.0.2 in /usr/local/lib/python3.7/dist-packages (from packaging->keras-tuner) (3.0.9)\n",
            "Requirement already satisfied: ptyprocess>=0.5 in /usr/local/lib/python3.7/dist-packages (from pexpect->ipython->keras-tuner) (0.7.0)\n",
            "Requirement already satisfied: urllib3!=1.25.0,!=1.25.1,<1.26,>=1.21.1 in /usr/local/lib/python3.7/dist-packages (from requests->keras-tuner) (1.24.3)\n",
            "Requirement already satisfied: certifi>=2017.4.17 in /usr/local/lib/python3.7/dist-packages (from requests->keras-tuner) (2022.6.15)\n",
            "Requirement already satisfied: chardet<4,>=3.0.2 in /usr/local/lib/python3.7/dist-packages (from requests->keras-tuner) (3.0.4)\n",
            "Requirement already satisfied: idna<3,>=2.5 in /usr/local/lib/python3.7/dist-packages (from requests->keras-tuner) (2.10)\n",
            "Requirement already satisfied: google-auth<3,>=1.6.3 in /usr/local/lib/python3.7/dist-packages (from tensorboard->keras-tuner) (1.35.0)\n",
            "Requirement already satisfied: google-auth-oauthlib<0.5,>=0.4.1 in /usr/local/lib/python3.7/dist-packages (from tensorboard->keras-tuner) (0.4.6)\n",
            "Requirement already satisfied: markdown>=2.6.8 in /usr/local/lib/python3.7/dist-packages (from tensorboard->keras-tuner) (3.4.1)\n",
            "Requirement already satisfied: protobuf>=3.6.0 in /usr/local/lib/python3.7/dist-packages (from tensorboard->keras-tuner) (3.17.3)\n",
            "Requirement already satisfied: werkzeug>=0.11.15 in /usr/local/lib/python3.7/dist-packages (from tensorboard->keras-tuner) (1.0.1)\n",
            "Requirement already satisfied: grpcio>=1.24.3 in /usr/local/lib/python3.7/dist-packages (from tensorboard->keras-tuner) (1.48.1)\n",
            "Requirement already satisfied: wheel>=0.26 in /usr/local/lib/python3.7/dist-packages (from tensorboard->keras-tuner) (0.37.1)\n",
            "Requirement already satisfied: tensorboard-plugin-wit>=1.6.0 in /usr/local/lib/python3.7/dist-packages (from tensorboard->keras-tuner) (1.8.1)\n",
            "Requirement already satisfied: tensorboard-data-server<0.7.0,>=0.6.0 in /usr/local/lib/python3.7/dist-packages (from tensorboard->keras-tuner) (0.6.1)\n",
            "Requirement already satisfied: absl-py>=0.4 in /usr/local/lib/python3.7/dist-packages (from tensorboard->keras-tuner) (1.2.0)\n",
            "Requirement already satisfied: rsa<5,>=3.1.4 in /usr/local/lib/python3.7/dist-packages (from google-auth<3,>=1.6.3->tensorboard->keras-tuner) (4.9)\n",
            "Requirement already satisfied: cachetools<5.0,>=2.0.0 in /usr/local/lib/python3.7/dist-packages (from google-auth<3,>=1.6.3->tensorboard->keras-tuner) (4.2.4)\n",
            "Requirement already satisfied: pyasn1-modules>=0.2.1 in /usr/local/lib/python3.7/dist-packages (from google-auth<3,>=1.6.3->tensorboard->keras-tuner) (0.2.8)\n",
            "Requirement already satisfied: requests-oauthlib>=0.7.0 in /usr/local/lib/python3.7/dist-packages (from google-auth-oauthlib<0.5,>=0.4.1->tensorboard->keras-tuner) (1.3.1)\n",
            "Requirement already satisfied: importlib-metadata>=4.4 in /usr/local/lib/python3.7/dist-packages (from markdown>=2.6.8->tensorboard->keras-tuner) (4.12.0)\n",
            "Requirement already satisfied: zipp>=0.5 in /usr/local/lib/python3.7/dist-packages (from importlib-metadata>=4.4->markdown>=2.6.8->tensorboard->keras-tuner) (3.8.1)\n",
            "Requirement already satisfied: typing-extensions>=3.6.4 in /usr/local/lib/python3.7/dist-packages (from importlib-metadata>=4.4->markdown>=2.6.8->tensorboard->keras-tuner) (4.1.1)\n",
            "Requirement already satisfied: pyasn1<0.5.0,>=0.4.6 in /usr/local/lib/python3.7/dist-packages (from pyasn1-modules>=0.2.1->google-auth<3,>=1.6.3->tensorboard->keras-tuner) (0.4.8)\n",
            "Requirement already satisfied: oauthlib>=3.0.0 in /usr/local/lib/python3.7/dist-packages (from requests-oauthlib>=0.7.0->google-auth-oauthlib<0.5,>=0.4.1->tensorboard->keras-tuner) (3.2.0)\n"
          ]
        }
      ],
      "source": [
        "#Import the required libraries\n",
        "!pip install keras-tuner\n",
        "import cv2\n",
        "import matplotlib.pyplot as plt\n",
        "import matplotlib.image as mpimg\n",
        "import seaborn as sns\n",
        "import pathlib, os, random\n",
        "import numpy as np\n",
        "import pandas as pd\n",
        "import tensorflow as tf\n",
        "import tensorflow as tf\n",
        "from PIL import Image\n",
        "from keras.utils import np_utils\n",
        "from sklearn.model_selection import train_test_split\n",
        "import time\n",
        "import keras\n",
        "from tensorflow.keras.optimizers import Adam\n",
        "from tensorflow.keras.layers import Dense, Flatten, Conv2D, MaxPooling2D, Activation, BatchNormalization, Dropout\n",
        "from tensorflow.keras.preprocessing.image import ImageDataGenerator\n",
        "from tensorflow.keras import Sequential\n",
        "from keras_tuner import RandomSearch\n",
        "from keras_tuner.engine.hyperparameters import HyperParameters\n",
        "from sklearn.ensemble import RandomForestClassifier\n",
        "from sklearn.model_selection import GridSearchCV\n",
        "from sklearn.preprocessing import MinMaxScaler\n",
        "\n",
        "\n",
        "import cv2\n",
        "import matplotlib.pyplot as plt \n",
        "import seaborn as sns\n",
        "import os\n",
        "from PIL import Image\n",
        "from tensorflow.keras.utils import img_to_array\n",
        "from tensorflow.keras.utils import load_img\n",
        "from keras.utils import np_utils"
      ]
    },
    {
      "cell_type": "code",
      "source": [],
      "metadata": {
        "id": "FLJH8giBiuAo"
      },
      "execution_count": 1,
      "outputs": []
    },
    {
      "cell_type": "code",
      "source": [
        "#Understanding the files in different data directories\n",
        "bad_data = os.listdir('/content/drive/MyDrive/Ethiopia/Bad')\n",
        "print(\"Bad coffee beans: \",bad_data[:10])\n",
        "\n",
        "good_data = os.listdir('/content/drive/MyDrive/Ethiopia/Good')\n",
        "print(\"Good coffee beans: \",good_data[:10])"
      ],
      "metadata": {
        "colab": {
          "base_uri": "https://localhost:8080/"
        },
        "id": "t_N_uZisijgA",
        "outputId": "052d08fb-5291-42a8-c947-1ff0511ffdea"
      },
      "execution_count": 2,
      "outputs": [
        {
          "output_type": "stream",
          "name": "stdout",
          "text": [
            "Bad coffee beans:  ['IMG_6040_5.jpg', 'IMG_6038_7.jpg', 'IMG_6036_5.jpg', 'IMG_6036_2.jpg', 'IMG_6042_5.jpg', 'IMG_6039_9.jpg', 'IMG_6040_8.jpg', 'IMG_6040_3.jpg', 'IMG_6042_1.jpg', 'IMG_6039_3.jpg']\n",
            "Good coffee beans:  ['IMG_5968_6.jpg', 'IMG_5974_7.jpg', 'IMG_5966_7.jpg', 'IMG_5967_4.jpg', 'IMG_5968_9.jpg', 'IMG_5970_3.jpg', 'IMG_5976_1.jpg', 'IMG_5971_6.jpg', 'IMG_5968_1.jpg', 'IMG_5969_2.jpg']\n"
          ]
        }
      ]
    },
    {
      "cell_type": "code",
      "source": [
        "data = []\n",
        "labels = []\n",
        "for img in bad_data:\n",
        "    try:\n",
        "        img_read = plt.imread('/content/drive/MyDrive/Ethiopia/Bad' + \"/\" + img)\n",
        "        img_resize = cv2.resize(img_read, (256,256))\n",
        "        img_array = img_to_array(img_resize)\n",
        "        data.append(img_array)\n",
        "        labels.append(1)\n",
        "    except:\n",
        "        None\n",
        "        \n",
        "for img in good_data:\n",
        "    try:\n",
        "        img_read = plt.imread('/content/drive/MyDrive/Ethiopia/Good' + \"/\" + img)\n",
        "        img_resize = cv2.resize(img_read, (256,256))\n",
        "        img_array = img_to_array(img_resize)\n",
        "        data.append(img_array)\n",
        "        labels.append(0)\n",
        "    except:\n",
        "        None"
      ],
      "metadata": {
        "id": "1TCZsD54lhRV"
      },
      "execution_count": 3,
      "outputs": []
    },
    {
      "cell_type": "code",
      "source": [
        "image_data = np.array(data)\n",
        "labels = np.array(labels)\n",
        "\n",
        "idx = np.arange(image_data.shape[0])\n",
        "np.random.shuffle(idx)\n",
        "image_data = image_data[idx]\n",
        "labels = labels[idx]"
      ],
      "metadata": {
        "id": "UKVE-7FMlpzs"
      },
      "execution_count": 4,
      "outputs": []
    },
    {
      "cell_type": "code",
      "source": [
        "from sklearn.model_selection import train_test_split\n",
        "x_train, x_test, y_train, y_test = train_test_split(image_data, labels, test_size = 0.2, random_state = 101)\n",
        "\n",
        "y_train = np_utils.to_categorical(y_train, num_classes = 2)\n",
        "y_test = np_utils.to_categorical(y_test, num_classes = 2)\n",
        "\n",
        "print(f'SHAPE OF TRAINING IMAGE DATA : {x_train.shape}')\n",
        "print(f'SHAPE OF TESTING IMAGE DATA : {x_test.shape}')\n",
        "print(f'SHAPE OF TRAINING LABELS : {y_train.shape}')\n",
        "print(f'SHAPE OF TESTING LABELS : {y_test.shape}')"
      ],
      "metadata": {
        "colab": {
          "base_uri": "https://localhost:8080/"
        },
        "id": "uvGJBUCymUjn",
        "outputId": "25c9f943-b419-4372-afe7-204d81512856"
      },
      "execution_count": 5,
      "outputs": [
        {
          "output_type": "stream",
          "name": "stdout",
          "text": [
            "SHAPE OF TRAINING IMAGE DATA : (844, 256, 256, 3)\n",
            "SHAPE OF TESTING IMAGE DATA : (211, 256, 256, 3)\n",
            "SHAPE OF TRAINING LABELS : (844, 2)\n",
            "SHAPE OF TESTING LABELS : (211, 2)\n"
          ]
        }
      ]
    },
    {
      "cell_type": "code",
      "source": [
        "!pip install hyperactive==0.3.1\n",
        "import hyperactive as hyp"
      ],
      "metadata": {
        "colab": {
          "base_uri": "https://localhost:8080/"
        },
        "id": "MEhCPIAFmWyi",
        "outputId": "a8155130-318e-49e5-dd70-586e5ed6864f"
      },
      "execution_count": 6,
      "outputs": [
        {
          "output_type": "stream",
          "name": "stdout",
          "text": [
            "Looking in indexes: https://pypi.org/simple, https://us-python.pkg.dev/colab-wheels/public/simple/\n",
            "Requirement already satisfied: hyperactive==0.3.1 in /usr/local/lib/python3.7/dist-packages (0.3.1)\n",
            "Requirement already satisfied: keras in /usr/local/lib/python3.7/dist-packages (from hyperactive==0.3.1) (2.8.0)\n",
            "Requirement already satisfied: numpy in /usr/local/lib/python3.7/dist-packages (from hyperactive==0.3.1) (1.21.6)\n",
            "Requirement already satisfied: tqdm in /usr/local/lib/python3.7/dist-packages (from hyperactive==0.3.1) (4.64.1)\n",
            "Requirement already satisfied: scikit-learn>=0.18 in /usr/local/lib/python3.7/dist-packages (from hyperactive==0.3.1) (1.0.2)\n",
            "Requirement already satisfied: joblib>=0.11 in /usr/local/lib/python3.7/dist-packages (from scikit-learn>=0.18->hyperactive==0.3.1) (1.1.0)\n",
            "Requirement already satisfied: threadpoolctl>=2.0.0 in /usr/local/lib/python3.7/dist-packages (from scikit-learn>=0.18->hyperactive==0.3.1) (3.1.0)\n",
            "Requirement already satisfied: scipy>=1.1.0 in /usr/local/lib/python3.7/dist-packages (from scikit-learn>=0.18->hyperactive==0.3.1) (1.7.3)\n"
          ]
        }
      ]
    },
    {
      "cell_type": "code",
      "source": [
        "search_config = {\n",
        "    \"keras.compile.0\": {\"loss\": [\"binary_crossentropy\"], \"optimizer\": [\"adam\"]},\n",
        "    \"keras.fit.0\": {\"epochs\": [5], \"batch_size\": [32], \"verbose\": [2]},\n",
        "    \"keras.layers.Conv2D.1\": {\n",
        "        \"filters\": [32, 64, 128],\n",
        "        \"kernel_size\": [(3, 3)],\n",
        "        \"activation\": [\"relu\"],\n",
        "        \"input_shape\": [(256,256,3)],\n",
        "    },\n",
        "    \"keras.layers.MaxPooling2D.2\": {\"pool_size\": [(2, 2)]},\n",
        "    \"keras.layers.Conv2D.3\": {\n",
        "        \"filters\": [16, 32, 64, 128],\n",
        "        \"kernel_size\": [(3, 3)],\n",
        "        \"activation\": [\"relu\"],\n",
        "    },\n",
        "    \"keras.layers.MaxPooling2D.4\": {\"pool_size\": [(2, 2)]},\n",
        "    \"keras.layers.Flatten.5\": {},\n",
        "    \"keras.layers.Dense.6\": {\"units\": range(30, 100, 10), \"activation\": [\"relu\"]},\n",
        "    \"keras.layers.Dropout.7\": {\"rate\": list(np.arange(0.2, 0.8, 0.2))},\n",
        "    \"keras.layers.Dense.8\": {\"units\": [2], \"activation\": [\"softmax\"]},\n",
        "}\n",
        "start_point = {\n",
        "    \"keras.compile.0\": {\"loss\": [\"binary_crossentropy\"], \"optimizer\": [\"adam\"]},\n",
        "    \"keras.fit.0\": {\"epochs\": [5], \"batch_size\": [32], \"verbose\": [2]},\n",
        "    \"keras.layers.Conv2D.1\": {\n",
        "        \"filters\": [64],\n",
        "        \"kernel_size\": [(3, 3)],\n",
        "        \"activation\": [\"relu\"],\n",
        "        \"input_shape\": [(256,256,3)],\n",
        "    },\n",
        "    \"keras.layers.MaxPooling2D.2\": {\"pool_size\": [(2, 2)]},\n",
        "    \"keras.layers.Conv2D.3\": {\n",
        "        \"filters\": [32],\n",
        "        \"kernel_size\": [(3, 3)],\n",
        "        \"activation\": [\"relu\"],\n",
        "    },\n",
        "    \"keras.layers.MaxPooling2D.4\": {\"pool_size\": [(2, 2)]},\n",
        "    \"keras.layers.Flatten.5\": {},\n",
        "    \"keras.layers.Dense.6\": {\"units\": [30], \"activation\": [\"relu\"]},\n",
        "    \"keras.layers.Dropout.7\": {\"rate\": [0.2]},\n",
        "    \"keras.layers.Dense.8\": {\"units\": [2], \"activation\": [\"softmax\"]},\n",
        "}\n",
        "\n",
        "\n",
        "#https://pypi.org/project/hyperactive/0.3.1/ \n",
        "Optimizer = hyp.ParticleSwarmOptimizer(search_config, n_iter=3,warm_start=start_point, metric=\"accuracy\", n_jobs=1, cv=3, verbosity=1, random_state=42, n_part=3, w=0.85, c_k=1.9, c_s=2.05)"
      ],
      "metadata": {
        "id": "JqMmOXKLmahh"
      },
      "execution_count": 7,
      "outputs": []
    },
    {
      "cell_type": "code",
      "source": [
        "import time\n",
        "t1 = time.time()\n",
        "# search best hyperparameter for given data\n",
        "h = Optimizer.fit(x_train, y_train)\n",
        "\n",
        "t2 = time.time()\n",
        "print(\"time: {}\".format(t2-t1))\n",
        "\n",
        "# predict from test data\n",
        "Optimizer.predict(x_test)\n",
        "\n",
        "# calculate accuracy score\n",
        "score = Optimizer.score(x_test, y_test)\n",
        "\n",
        "print(\"test score: {}\".format(score))"
      ],
      "metadata": {
        "colab": {
          "base_uri": "https://localhost:8080/"
        },
        "id": "0-zh19C0mhKZ",
        "outputId": "c3d38a32-dba8-460b-bf46-499ccbf913f8"
      },
      "execution_count": null,
      "outputs": [
        {
          "output_type": "stream",
          "name": "stdout",
          "text": [
            "Epoch 1/5\n",
            "27/27 - 15s - loss: 74.4276 - accuracy: 0.5972 - 15s/epoch - 553ms/step\n",
            "Epoch 2/5\n",
            "27/27 - 2s - loss: 0.4726 - accuracy: 0.7524 - 2s/epoch - 71ms/step\n",
            "Epoch 3/5\n",
            "27/27 - 2s - loss: 0.4118 - accuracy: 0.8614 - 2s/epoch - 70ms/step\n",
            "Epoch 4/5\n",
            "27/27 - 2s - loss: 0.4006 - accuracy: 0.8945 - 2s/epoch - 71ms/step\n",
            "Epoch 5/5\n",
            "27/27 - 2s - loss: 0.3207 - accuracy: 0.9265 - 2s/epoch - 71ms/step\n",
            "27/27 [==============================] - 1s 35ms/step - loss: 0.2798 - accuracy: 0.9751\n"
          ]
        },
        {
          "output_type": "stream",
          "name": "stderr",
          "text": [
            "\r  0%|          | 0/3 [00:00<?, ?it/s]"
          ]
        },
        {
          "output_type": "stream",
          "name": "stdout",
          "text": [
            "Epoch 1/5\n",
            "27/27 - 2s - loss: 374.1037 - accuracy: 0.5581 - 2s/epoch - 80ms/step\n",
            "Epoch 2/5\n",
            "27/27 - 1s - loss: 0.6784 - accuracy: 0.7204 - 1s/epoch - 41ms/step\n",
            "Epoch 3/5\n",
            "27/27 - 1s - loss: 0.5571 - accuracy: 0.8081 - 1s/epoch - 41ms/step\n",
            "Epoch 4/5\n",
            "27/27 - 1s - loss: 0.4661 - accuracy: 0.8543 - 1s/epoch - 41ms/step\n",
            "Epoch 5/5\n",
            "27/27 - 1s - loss: 0.4145 - accuracy: 0.8969 - 1s/epoch - 41ms/step\n",
            "27/27 [==============================] - 1s 26ms/step - loss: 0.3462 - accuracy: 0.9254\n",
            "Epoch 1/5\n",
            "27/27 - 3s - loss: 60.3998 - accuracy: 0.6991 - 3s/epoch - 101ms/step\n",
            "Epoch 2/5\n",
            "27/27 - 2s - loss: 0.4360 - accuracy: 0.8922 - 2s/epoch - 65ms/step\n",
            "Epoch 3/5\n",
            "27/27 - 2s - loss: 0.3977 - accuracy: 0.9206 - 2s/epoch - 65ms/step\n",
            "Epoch 4/5\n",
            "27/27 - 2s - loss: 0.3314 - accuracy: 0.9491 - 2s/epoch - 65ms/step\n",
            "Epoch 5/5\n",
            "27/27 - 2s - loss: 0.2872 - accuracy: 0.9633 - 2s/epoch - 65ms/step\n",
            "27/27 [==============================] - 1s 38ms/step - loss: 0.3414 - accuracy: 0.9467\n",
            "Epoch 1/5\n",
            "27/27 - 7s - loss: 160.1965 - accuracy: 0.5213 - 7s/epoch - 251ms/step\n",
            "Epoch 2/5\n",
            "27/27 - 4s - loss: 0.6931 - accuracy: 0.5012 - 4s/epoch - 137ms/step\n",
            "Epoch 3/5\n",
            "27/27 - 4s - loss: 0.6932 - accuracy: 0.5012 - 4s/epoch - 138ms/step\n",
            "Epoch 4/5\n",
            "27/27 - 4s - loss: 0.6932 - accuracy: 0.5012 - 4s/epoch - 138ms/step\n",
            "Epoch 5/5\n",
            "27/27 - 4s - loss: 0.6932 - accuracy: 0.5012 - 4s/epoch - 138ms/step\n",
            "27/27 [==============================] - 2s 62ms/step - loss: 0.6931 - accuracy: 0.5012\n"
          ]
        },
        {
          "output_type": "stream",
          "name": "stderr",
          "text": [
            "\r 33%|███▎      | 1/3 [01:10<02:20, 70.05s/it]"
          ]
        },
        {
          "output_type": "stream",
          "name": "stdout",
          "text": [
            "Epoch 1/5\n",
            "27/27 - 2s - loss: 133.8815 - accuracy: 0.5533 - 2s/epoch - 61ms/step\n",
            "Epoch 2/5\n",
            "27/27 - 1s - loss: 0.4170 - accuracy: 0.7950 - 1s/epoch - 41ms/step\n",
            "Epoch 3/5\n",
            "27/27 - 1s - loss: 0.5859 - accuracy: 0.8803 - 1s/epoch - 41ms/step\n",
            "Epoch 4/5\n",
            "27/27 - 1s - loss: 0.6953 - accuracy: 0.5000 - 1s/epoch - 41ms/step\n",
            "Epoch 5/5\n",
            "27/27 - 1s - loss: 0.6951 - accuracy: 0.5000 - 1s/epoch - 41ms/step\n",
            "27/27 [==============================] - 1s 24ms/step - loss: 0.6948 - accuracy: 0.5000\n",
            "Epoch 1/5\n",
            "27/27 - 2s - loss: 49.6148 - accuracy: 0.6659 - 2s/epoch - 89ms/step\n",
            "Epoch 2/5\n",
            "27/27 - 2s - loss: 0.4399 - accuracy: 0.8555 - 2s/epoch - 71ms/step\n",
            "Epoch 3/5\n",
            "27/27 - 2s - loss: 0.3265 - accuracy: 0.8981 - 2s/epoch - 71ms/step\n",
            "Epoch 4/5\n",
            "27/27 - 2s - loss: 0.2651 - accuracy: 0.9301 - 2s/epoch - 71ms/step\n",
            "Epoch 5/5\n",
            "27/27 - 2s - loss: 0.2160 - accuracy: 0.9502 - 2s/epoch - 71ms/step\n",
            "27/27 [==============================] - 1s 36ms/step - loss: 0.1349 - accuracy: 0.9727\n",
            "Epoch 1/5\n",
            "27/27 - 2s - loss: 24.4301 - accuracy: 0.6694 - 2s/epoch - 62ms/step\n",
            "Epoch 2/5\n",
            "27/27 - 1s - loss: 0.4977 - accuracy: 0.7547 - 1s/epoch - 41ms/step\n",
            "Epoch 3/5\n",
            "27/27 - 1s - loss: 0.4466 - accuracy: 0.8164 - 1s/epoch - 41ms/step\n",
            "Epoch 4/5\n",
            "27/27 - 1s - loss: 0.4065 - accuracy: 0.8744 - 1s/epoch - 41ms/step\n",
            "Epoch 5/5\n",
            "27/27 - 1s - loss: 0.3607 - accuracy: 0.8803 - 1s/epoch - 41ms/step\n",
            "27/27 [==============================] - 1s 26ms/step - loss: 0.2942 - accuracy: 0.9396\n"
          ]
        },
        {
          "output_type": "stream",
          "name": "stderr",
          "text": [
            "\r 67%|██████▋   | 2/3 [01:43<00:48, 48.59s/it]"
          ]
        },
        {
          "output_type": "stream",
          "name": "stdout",
          "text": [
            "Epoch 1/5\n",
            "27/27 - 2s - loss: 56.0617 - accuracy: 0.6671 - 2s/epoch - 90ms/step\n",
            "Epoch 2/5\n",
            "27/27 - 2s - loss: 0.4907 - accuracy: 0.8021 - 2s/epoch - 71ms/step\n",
            "Epoch 3/5\n",
            "27/27 - 2s - loss: 0.3980 - accuracy: 0.8863 - 2s/epoch - 71ms/step\n",
            "Epoch 4/5\n",
            "27/27 - 2s - loss: 0.3625 - accuracy: 0.9171 - 2s/epoch - 71ms/step\n",
            "Epoch 5/5\n",
            "27/27 - 2s - loss: 0.3092 - accuracy: 0.9289 - 2s/epoch - 71ms/step\n"
          ]
        }
      ]
    },
    {
      "cell_type": "code",
      "source": [],
      "metadata": {
        "id": "7bbfMDXnmj-S"
      },
      "execution_count": null,
      "outputs": []
    }
  ]
}