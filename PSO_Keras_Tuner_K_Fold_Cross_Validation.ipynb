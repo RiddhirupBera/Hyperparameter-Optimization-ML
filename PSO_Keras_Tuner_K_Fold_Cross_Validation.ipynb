{
  "nbformat": 4,
  "nbformat_minor": 0,
  "metadata": {
    "colab": {
      "provenance": []
    },
    "kernelspec": {
      "name": "python3",
      "display_name": "Python 3"
    },
    "language_info": {
      "name": "python"
    },
    "accelerator": "GPU"
  },
  "cells": [
    {
      "cell_type": "code",
      "execution_count": null,
      "metadata": {
        "colab": {
          "base_uri": "https://localhost:8080/"
        },
        "id": "pfTCVO3kifgN",
        "outputId": "8a31b12f-beee-41f7-86a2-b0b13c27646e"
      },
      "outputs": [
        {
          "output_type": "stream",
          "name": "stdout",
          "text": [
            "Looking in indexes: https://pypi.org/simple, https://us-python.pkg.dev/colab-wheels/public/simple/\n",
            "Collecting keras-tuner\n",
            "  Downloading keras_tuner-1.1.3-py3-none-any.whl (135 kB)\n",
            "\u001b[K     |████████████████████████████████| 135 kB 32.2 MB/s \n",
            "\u001b[?25hRequirement already satisfied: tensorboard in /usr/local/lib/python3.7/dist-packages (from keras-tuner) (2.8.0)\n",
            "Requirement already satisfied: ipython in /usr/local/lib/python3.7/dist-packages (from keras-tuner) (7.9.0)\n",
            "Requirement already satisfied: requests in /usr/local/lib/python3.7/dist-packages (from keras-tuner) (2.23.0)\n",
            "Collecting kt-legacy\n",
            "  Downloading kt_legacy-1.0.4-py3-none-any.whl (9.6 kB)\n",
            "Requirement already satisfied: packaging in /usr/local/lib/python3.7/dist-packages (from keras-tuner) (21.3)\n",
            "Requirement already satisfied: numpy in /usr/local/lib/python3.7/dist-packages (from keras-tuner) (1.21.6)\n",
            "Requirement already satisfied: pickleshare in /usr/local/lib/python3.7/dist-packages (from ipython->keras-tuner) (0.7.5)\n",
            "Requirement already satisfied: prompt-toolkit<2.1.0,>=2.0.0 in /usr/local/lib/python3.7/dist-packages (from ipython->keras-tuner) (2.0.10)\n",
            "Requirement already satisfied: traitlets>=4.2 in /usr/local/lib/python3.7/dist-packages (from ipython->keras-tuner) (5.1.1)\n",
            "Requirement already satisfied: decorator in /usr/local/lib/python3.7/dist-packages (from ipython->keras-tuner) (4.4.2)\n",
            "Requirement already satisfied: pexpect in /usr/local/lib/python3.7/dist-packages (from ipython->keras-tuner) (4.8.0)\n",
            "Collecting jedi>=0.10\n",
            "  Downloading jedi-0.18.1-py2.py3-none-any.whl (1.6 MB)\n",
            "\u001b[K     |████████████████████████████████| 1.6 MB 47.4 MB/s \n",
            "\u001b[?25hRequirement already satisfied: backcall in /usr/local/lib/python3.7/dist-packages (from ipython->keras-tuner) (0.2.0)\n",
            "Requirement already satisfied: pygments in /usr/local/lib/python3.7/dist-packages (from ipython->keras-tuner) (2.6.1)\n",
            "Requirement already satisfied: setuptools>=18.5 in /usr/local/lib/python3.7/dist-packages (from ipython->keras-tuner) (57.4.0)\n",
            "Requirement already satisfied: parso<0.9.0,>=0.8.0 in /usr/local/lib/python3.7/dist-packages (from jedi>=0.10->ipython->keras-tuner) (0.8.3)\n",
            "Requirement already satisfied: wcwidth in /usr/local/lib/python3.7/dist-packages (from prompt-toolkit<2.1.0,>=2.0.0->ipython->keras-tuner) (0.2.5)\n",
            "Requirement already satisfied: six>=1.9.0 in /usr/local/lib/python3.7/dist-packages (from prompt-toolkit<2.1.0,>=2.0.0->ipython->keras-tuner) (1.15.0)\n",
            "Requirement already satisfied: pyparsing!=3.0.5,>=2.0.2 in /usr/local/lib/python3.7/dist-packages (from packaging->keras-tuner) (3.0.9)\n",
            "Requirement already satisfied: ptyprocess>=0.5 in /usr/local/lib/python3.7/dist-packages (from pexpect->ipython->keras-tuner) (0.7.0)\n",
            "Requirement already satisfied: chardet<4,>=3.0.2 in /usr/local/lib/python3.7/dist-packages (from requests->keras-tuner) (3.0.4)\n",
            "Requirement already satisfied: certifi>=2017.4.17 in /usr/local/lib/python3.7/dist-packages (from requests->keras-tuner) (2022.6.15)\n",
            "Requirement already satisfied: urllib3!=1.25.0,!=1.25.1,<1.26,>=1.21.1 in /usr/local/lib/python3.7/dist-packages (from requests->keras-tuner) (1.24.3)\n",
            "Requirement already satisfied: idna<3,>=2.5 in /usr/local/lib/python3.7/dist-packages (from requests->keras-tuner) (2.10)\n",
            "Requirement already satisfied: werkzeug>=0.11.15 in /usr/local/lib/python3.7/dist-packages (from tensorboard->keras-tuner) (1.0.1)\n",
            "Requirement already satisfied: markdown>=2.6.8 in /usr/local/lib/python3.7/dist-packages (from tensorboard->keras-tuner) (3.4.1)\n",
            "Requirement already satisfied: wheel>=0.26 in /usr/local/lib/python3.7/dist-packages (from tensorboard->keras-tuner) (0.37.1)\n",
            "Requirement already satisfied: protobuf>=3.6.0 in /usr/local/lib/python3.7/dist-packages (from tensorboard->keras-tuner) (3.17.3)\n",
            "Requirement already satisfied: tensorboard-plugin-wit>=1.6.0 in /usr/local/lib/python3.7/dist-packages (from tensorboard->keras-tuner) (1.8.1)\n",
            "Requirement already satisfied: tensorboard-data-server<0.7.0,>=0.6.0 in /usr/local/lib/python3.7/dist-packages (from tensorboard->keras-tuner) (0.6.1)\n",
            "Requirement already satisfied: google-auth-oauthlib<0.5,>=0.4.1 in /usr/local/lib/python3.7/dist-packages (from tensorboard->keras-tuner) (0.4.6)\n",
            "Requirement already satisfied: grpcio>=1.24.3 in /usr/local/lib/python3.7/dist-packages (from tensorboard->keras-tuner) (1.48.1)\n",
            "Requirement already satisfied: google-auth<3,>=1.6.3 in /usr/local/lib/python3.7/dist-packages (from tensorboard->keras-tuner) (1.35.0)\n",
            "Requirement already satisfied: absl-py>=0.4 in /usr/local/lib/python3.7/dist-packages (from tensorboard->keras-tuner) (1.2.0)\n",
            "Requirement already satisfied: cachetools<5.0,>=2.0.0 in /usr/local/lib/python3.7/dist-packages (from google-auth<3,>=1.6.3->tensorboard->keras-tuner) (4.2.4)\n",
            "Requirement already satisfied: rsa<5,>=3.1.4 in /usr/local/lib/python3.7/dist-packages (from google-auth<3,>=1.6.3->tensorboard->keras-tuner) (4.9)\n",
            "Requirement already satisfied: pyasn1-modules>=0.2.1 in /usr/local/lib/python3.7/dist-packages (from google-auth<3,>=1.6.3->tensorboard->keras-tuner) (0.2.8)\n",
            "Requirement already satisfied: requests-oauthlib>=0.7.0 in /usr/local/lib/python3.7/dist-packages (from google-auth-oauthlib<0.5,>=0.4.1->tensorboard->keras-tuner) (1.3.1)\n",
            "Requirement already satisfied: importlib-metadata>=4.4 in /usr/local/lib/python3.7/dist-packages (from markdown>=2.6.8->tensorboard->keras-tuner) (4.12.0)\n",
            "Requirement already satisfied: typing-extensions>=3.6.4 in /usr/local/lib/python3.7/dist-packages (from importlib-metadata>=4.4->markdown>=2.6.8->tensorboard->keras-tuner) (4.1.1)\n",
            "Requirement already satisfied: zipp>=0.5 in /usr/local/lib/python3.7/dist-packages (from importlib-metadata>=4.4->markdown>=2.6.8->tensorboard->keras-tuner) (3.8.1)\n",
            "Requirement already satisfied: pyasn1<0.5.0,>=0.4.6 in /usr/local/lib/python3.7/dist-packages (from pyasn1-modules>=0.2.1->google-auth<3,>=1.6.3->tensorboard->keras-tuner) (0.4.8)\n",
            "Requirement already satisfied: oauthlib>=3.0.0 in /usr/local/lib/python3.7/dist-packages (from requests-oauthlib>=0.7.0->google-auth-oauthlib<0.5,>=0.4.1->tensorboard->keras-tuner) (3.2.0)\n",
            "Installing collected packages: jedi, kt-legacy, keras-tuner\n",
            "Successfully installed jedi-0.18.1 keras-tuner-1.1.3 kt-legacy-1.0.4\n"
          ]
        }
      ],
      "source": [
        "#Import the required libraries\n",
        "!pip install keras-tuner\n",
        "import cv2\n",
        "import matplotlib.pyplot as plt\n",
        "import matplotlib.image as mpimg\n",
        "import seaborn as sns\n",
        "import pathlib, os, random\n",
        "import numpy as np\n",
        "import pandas as pd\n",
        "import tensorflow as tf\n",
        "import tensorflow as tf\n",
        "from PIL import Image\n",
        "from keras.utils import np_utils\n",
        "from sklearn.model_selection import train_test_split\n",
        "import time\n",
        "import keras\n",
        "from tensorflow.keras.optimizers import Adam\n",
        "from tensorflow.keras.layers import Dense, Flatten, Conv2D, MaxPooling2D, Activation, BatchNormalization, Dropout\n",
        "from tensorflow.keras.preprocessing.image import ImageDataGenerator\n",
        "from tensorflow.keras import Sequential\n",
        "from keras_tuner import RandomSearch\n",
        "from keras_tuner.engine.hyperparameters import HyperParameters\n",
        "from sklearn.ensemble import RandomForestClassifier\n",
        "from sklearn.model_selection import GridSearchCV\n",
        "from sklearn.preprocessing import MinMaxScaler\n",
        "\n",
        "\n",
        "import cv2\n",
        "import matplotlib.pyplot as plt \n",
        "import seaborn as sns\n",
        "import os\n",
        "from PIL import Image\n",
        "from tensorflow.keras.utils import img_to_array\n",
        "from tensorflow.keras.utils import load_img\n",
        "from keras.utils import np_utils"
      ]
    },
    {
      "cell_type": "code",
      "source": [
        "from google.colab import drive\n",
        "drive.mount('/content/drive')"
      ],
      "metadata": {
        "colab": {
          "base_uri": "https://localhost:8080/"
        },
        "id": "Kj4cEjYEsg4i",
        "outputId": "85337921-b818-4005-a67b-f1bb74cf536f"
      },
      "execution_count": null,
      "outputs": [
        {
          "output_type": "stream",
          "name": "stdout",
          "text": [
            "Mounted at /content/drive\n"
          ]
        }
      ]
    },
    {
      "cell_type": "code",
      "source": [],
      "metadata": {
        "id": "FLJH8giBiuAo"
      },
      "execution_count": null,
      "outputs": []
    },
    {
      "cell_type": "code",
      "source": [
        "#Understanding the files in different data directories\n",
        "bad_data = os.listdir('/content/drive/MyDrive/Ethiopia_3/Bad')\n",
        "print(\"Bad coffee beans: \",bad_data[:10])\n",
        "\n",
        "good_data = os.listdir('/content/drive/MyDrive/Ethiopia_3/Good')\n",
        "print(\"Good coffee beans: \",good_data[:10])"
      ],
      "metadata": {
        "colab": {
          "base_uri": "https://localhost:8080/"
        },
        "id": "t_N_uZisijgA",
        "outputId": "452ecb56-ca31-41d8-8a4e-901256607638"
      },
      "execution_count": null,
      "outputs": [
        {
          "output_type": "stream",
          "name": "stdout",
          "text": [
            "Bad coffee beans:  ['IMG_5979_9.jpg', 'IMG_5980_2.jpg', 'IMG_5982_9.jpg', 'IMG_5981_7.jpg', 'IMG_5984_1.jpg', 'IMG_5984_3.jpg', 'IMG_5983_3.jpg', 'IMG_5982_8.jpg', 'IMG_5982_2.jpg', 'IMG_5979_4.jpg']\n",
            "Good coffee beans:  ['IMG_5924_5.jpg', 'IMG_5917_8.jpg', 'IMG_5923_4.jpg', 'IMG_5921_7.jpg', 'IMG_5920_1.jpg', 'IMG_5920_5.jpg', 'IMG_5919_5.jpg', 'IMG_5918_3.jpg', 'IMG_5921_4.jpg', 'IMG_5924_4.jpg']\n"
          ]
        }
      ]
    },
    {
      "cell_type": "code",
      "source": [
        "data = []\n",
        "labels = []\n",
        "for img in bad_data:\n",
        "    try:\n",
        "        img_read = plt.imread('/content/drive/MyDrive/Ethiopia_3/Bad' + \"/\" + img)\n",
        "        img_resize = cv2.resize(img_read, (256,256))\n",
        "        img_array = img_to_array(img_resize)\n",
        "        data.append(img_array)\n",
        "        labels.append(1)\n",
        "    except:\n",
        "        None\n",
        "        \n",
        "for img in good_data:\n",
        "    try:\n",
        "        img_read = plt.imread('/content/drive/MyDrive/Ethiopia_3/Good' + \"/\" + img)\n",
        "        img_resize = cv2.resize(img_read, (256,256))\n",
        "        img_array = img_to_array(img_resize)\n",
        "        data.append(img_array)\n",
        "        labels.append(0)\n",
        "    except:\n",
        "        None"
      ],
      "metadata": {
        "id": "1TCZsD54lhRV"
      },
      "execution_count": null,
      "outputs": []
    },
    {
      "cell_type": "code",
      "source": [
        "image_data = np.array(data)\n",
        "labels = np.array(labels)\n",
        "\n",
        "idx = np.arange(image_data.shape[0])\n",
        "np.random.shuffle(idx)\n",
        "image_data = image_data[idx]\n",
        "labels = labels[idx]"
      ],
      "metadata": {
        "id": "UKVE-7FMlpzs"
      },
      "execution_count": null,
      "outputs": []
    },
    {
      "cell_type": "code",
      "source": [
        "from sklearn.model_selection import train_test_split\n",
        "x_train, x_test, y_train, y_test = train_test_split(image_data, labels, test_size = 0.2, random_state = 101)\n",
        "\n",
        "y_train = np_utils.to_categorical(y_train, num_classes = 2)\n",
        "y_test = np_utils.to_categorical(y_test, num_classes = 2)\n",
        "\n",
        "print(f'SHAPE OF TRAINING IMAGE DATA : {x_train.shape}')\n",
        "print(f'SHAPE OF TESTING IMAGE DATA : {x_test.shape}')\n",
        "print(f'SHAPE OF TRAINING LABELS : {y_train.shape}')\n",
        "print(f'SHAPE OF TESTING LABELS : {y_test.shape}')"
      ],
      "metadata": {
        "colab": {
          "base_uri": "https://localhost:8080/"
        },
        "id": "uvGJBUCymUjn",
        "outputId": "c55aeacb-db46-493b-d597-468fcbdc3fdf"
      },
      "execution_count": null,
      "outputs": [
        {
          "output_type": "stream",
          "name": "stdout",
          "text": [
            "SHAPE OF TRAINING IMAGE DATA : (112, 256, 256, 3)\n",
            "SHAPE OF TESTING IMAGE DATA : (28, 256, 256, 3)\n",
            "SHAPE OF TRAINING LABELS : (112, 2)\n",
            "SHAPE OF TESTING LABELS : (28, 2)\n"
          ]
        }
      ]
    },
    {
      "cell_type": "code",
      "source": [
        "!pip install hyperactive==0.3.1\n",
        "import hyperactive as hyp"
      ],
      "metadata": {
        "colab": {
          "base_uri": "https://localhost:8080/"
        },
        "id": "MEhCPIAFmWyi",
        "outputId": "6ea186e5-dbd2-47ad-8852-21e125151b58"
      },
      "execution_count": null,
      "outputs": [
        {
          "output_type": "stream",
          "name": "stdout",
          "text": [
            "Looking in indexes: https://pypi.org/simple, https://us-python.pkg.dev/colab-wheels/public/simple/\n",
            "Collecting hyperactive==0.3.1\n",
            "  Downloading hyperactive-0.3.1-py3-none-any.whl (22 kB)\n",
            "Requirement already satisfied: numpy in /usr/local/lib/python3.7/dist-packages (from hyperactive==0.3.1) (1.21.6)\n",
            "Requirement already satisfied: scikit-learn>=0.18 in /usr/local/lib/python3.7/dist-packages (from hyperactive==0.3.1) (1.0.2)\n",
            "Requirement already satisfied: keras in /usr/local/lib/python3.7/dist-packages (from hyperactive==0.3.1) (2.8.0)\n",
            "Requirement already satisfied: tqdm in /usr/local/lib/python3.7/dist-packages (from hyperactive==0.3.1) (4.64.1)\n",
            "Requirement already satisfied: scipy>=1.1.0 in /usr/local/lib/python3.7/dist-packages (from scikit-learn>=0.18->hyperactive==0.3.1) (1.7.3)\n",
            "Requirement already satisfied: joblib>=0.11 in /usr/local/lib/python3.7/dist-packages (from scikit-learn>=0.18->hyperactive==0.3.1) (1.1.0)\n",
            "Requirement already satisfied: threadpoolctl>=2.0.0 in /usr/local/lib/python3.7/dist-packages (from scikit-learn>=0.18->hyperactive==0.3.1) (3.1.0)\n",
            "Installing collected packages: hyperactive\n",
            "Successfully installed hyperactive-0.3.1\n"
          ]
        }
      ]
    },
    {
      "cell_type": "code",
      "source": [
        "search_config = {\n",
        "    \"keras.compile.0\": {\"loss\": [\"binary_crossentropy\"], \"optimizer\": [\"adam\"]},\n",
        "    \"keras.fit.0\": {\"epochs\": [5], \"batch_size\": [32], \"verbose\": [2]},\n",
        "    \"keras.layers.Conv2D.1\": {\n",
        "        \"filters\": [32, 64, 128],\n",
        "        \"kernel_size\": [(3, 3)],\n",
        "        \"activation\": [\"relu\"],\n",
        "        \"input_shape\": [(256,256,3)],\n",
        "    },\n",
        "    \"keras.layers.MaxPooling2D.2\": {\"pool_size\": [(2, 2)]},\n",
        "    \"keras.layers.Conv2D.3\": {\n",
        "        \"filters\": [16, 32, 64, 128],\n",
        "        \"kernel_size\": [(3, 3)],\n",
        "        \"activation\": [\"relu\"],\n",
        "    },\n",
        "    \"keras.layers.MaxPooling2D.4\": {\"pool_size\": [(2, 2)]},\n",
        "    \"keras.layers.Flatten.5\": {},\n",
        "    \"keras.layers.Dense.6\": {\"units\": range(30, 100, 10), \"activation\": [\"relu\"]},\n",
        "    \"keras.layers.Dropout.7\": {\"rate\": list(np.arange(0.2, 0.8, 0.2))},\n",
        "    \"keras.layers.Dense.8\": {\"units\": [2], \"activation\": [\"softmax\"]},\n",
        "}\n",
        "start_point = {\n",
        "    \"keras.compile.0\": {\"loss\": [\"binary_crossentropy\"], \"optimizer\": [\"adam\"]},\n",
        "    \"keras.fit.0\": {\"epochs\": [5], \"batch_size\": [32], \"verbose\": [2]},\n",
        "    \"keras.layers.Conv2D.1\": {\n",
        "        \"filters\": [64],\n",
        "        \"kernel_size\": [(3, 3)],\n",
        "        \"activation\": [\"relu\"],\n",
        "        \"input_shape\": [(256,256,3)],\n",
        "    },\n",
        "    \"keras.layers.MaxPooling2D.2\": {\"pool_size\": [(2, 2)]},\n",
        "    \"keras.layers.Conv2D.3\": {\n",
        "        \"filters\": [32],\n",
        "        \"kernel_size\": [(3, 3)],\n",
        "        \"activation\": [\"relu\"],\n",
        "    },\n",
        "    \"keras.layers.MaxPooling2D.4\": {\"pool_size\": [(2, 2)]},\n",
        "    \"keras.layers.Flatten.5\": {},\n",
        "    \"keras.layers.Dense.6\": {\"units\": [30], \"activation\": [\"relu\"]},\n",
        "    \"keras.layers.Dropout.7\": {\"rate\": [0.2]},\n",
        "    \"keras.layers.Dense.8\": {\"units\": [2], \"activation\": [\"softmax\"]},\n",
        "}\n",
        "\n",
        "\n",
        "#https://pypi.org/project/hyperactive/0.3.1/ \n",
        "Optimizer = hyp.ParticleSwarmOptimizer(search_config, n_iter=3,warm_start=start_point, metric=\"accuracy\", n_jobs=1, cv=3, verbosity=1, random_state=42, n_part=3, w=0.85, c_k=1.9, c_s=2.05)"
      ],
      "metadata": {
        "id": "JqMmOXKLmahh"
      },
      "execution_count": null,
      "outputs": []
    },
    {
      "cell_type": "code",
      "source": [
        "print(len(y_train))\n",
        "print(y_train[5])"
      ],
      "metadata": {
        "colab": {
          "base_uri": "https://localhost:8080/"
        },
        "id": "-CsrFY-CtSba",
        "outputId": "4a9bd49f-0c9d-48d2-a3e8-6b4ebb2da3d2"
      },
      "execution_count": null,
      "outputs": [
        {
          "output_type": "stream",
          "name": "stdout",
          "text": [
            "112\n",
            "[1. 0.]\n"
          ]
        }
      ]
    },
    {
      "cell_type": "code",
      "source": [
        "partition_size = len(image_data)/5\n",
        "ctr=0\n",
        "l1=[]\n",
        "l2=[]\n",
        "Final_data=[]\n",
        "Final_label=[]\n",
        "for i in range(len(image_data)):\n",
        "  if ctr==partition_size:\n",
        "    ctr=0\n",
        "    Final_data.append(l1)\n",
        "    Final_label.append(l2)\n",
        "    l1=[]\n",
        "    l2=[]\n",
        "  else:\n",
        "    l1.append(image_data[i])\n",
        "    l2.append(labels[i])\n",
        "    ctr=ctr+1\n",
        "Final_data.append(l1)\n",
        "Final_label.append(l2)"
      ],
      "metadata": {
        "id": "KpaLYwectkz0"
      },
      "execution_count": null,
      "outputs": []
    },
    {
      "cell_type": "code",
      "source": [
        "import time\n",
        "#for i in range(len(Final_data)):\n",
        "def buildmodel():\n",
        "  t1 = time.time()\n",
        "  #x_train=[]\n",
        "  #y_train=[]\n",
        "  #x_test=Final_data[i];\n",
        "  #y_test=Final_label[i] \n",
        "  \"\"\"for j in range(len(Final_data)):\n",
        "    if j is not i:\n",
        "      x_train.extend(Final_data[j])\n",
        "      y_train.extend(Final_label[j])\n",
        "  \n",
        "  \"\"\"\n",
        "  # search best hyperparameter for given data\n",
        "  h = Optimizer.fit(x_train, y_train)\n",
        "\n",
        "  t2 = time.time()\n",
        "  print(\"time: {}\".format(t2-t1))\n",
        "\n",
        "  # predict from test data\n",
        "  Optimizer.predict(x_test)\n",
        "\n",
        "  # calculate accuracy score\n",
        "  score = Optimizer.score(x_test, y_test)\n",
        "\n",
        "  print(\"test score: {}\".format(score))"
      ],
      "metadata": {
        "id": "IIclzuD-wlwM"
      },
      "execution_count": null,
      "outputs": []
    },
    {
      "cell_type": "code",
      "source": [
        "import time\n",
        "t1 = time.time()\n",
        "# search best hyperparameter for given data\n",
        "h = Optimizer.fit(x_train, y_train)\n",
        "\n",
        "t2 = time.time()\n",
        "print(\"time: {}\".format(t2-t1))\n",
        "\n",
        "# predict from test data\n",
        "Optimizer.predict(x_test)\n",
        "\n",
        "# calculate accuracy score\n",
        "score = Optimizer.score(x_test, y_test)\n",
        "\n",
        "print(\"test score: {}\".format(score))"
      ],
      "metadata": {
        "colab": {
          "base_uri": "https://localhost:8080/"
        },
        "id": "0-zh19C0mhKZ",
        "outputId": "f050335f-aaa6-4188-8dc3-77d3a83224ad"
      },
      "execution_count": null,
      "outputs": [
        {
          "output_type": "stream",
          "name": "stdout",
          "text": [
            "Epoch 1/5\n",
            "4/4 - 17s - loss: 521.4791 - accuracy: 0.5000 - 17s/epoch - 4s/step\n",
            "Epoch 2/5\n",
            "4/4 - 0s - loss: 13.7050 - accuracy: 0.5804 - 255ms/epoch - 64ms/step\n",
            "Epoch 3/5\n",
            "4/4 - 0s - loss: 0.4913 - accuracy: 0.8482 - 258ms/epoch - 65ms/step\n",
            "Epoch 4/5\n",
            "4/4 - 0s - loss: 0.5225 - accuracy: 0.7857 - 258ms/epoch - 64ms/step\n",
            "Epoch 5/5\n",
            "4/4 - 0s - loss: 0.5632 - accuracy: 0.7946 - 252ms/epoch - 63ms/step\n",
            "4/4 [==============================] - 0s 29ms/step - loss: 6.8005 - accuracy: 0.5000\n"
          ]
        },
        {
          "output_type": "stream",
          "name": "stderr",
          "text": [
            "\r  0%|          | 0/3 [00:00<?, ?it/s]"
          ]
        },
        {
          "output_type": "stream",
          "name": "stdout",
          "text": [
            "Epoch 1/5\n",
            "4/4 - 1s - loss: 1040.1041 - accuracy: 0.5982 - 1s/epoch - 318ms/step\n",
            "Epoch 2/5\n",
            "4/4 - 0s - loss: 154.2354 - accuracy: 0.5179 - 149ms/epoch - 37ms/step\n",
            "Epoch 3/5\n",
            "4/4 - 0s - loss: 11.4438 - accuracy: 0.5000 - 152ms/epoch - 38ms/step\n",
            "Epoch 4/5\n",
            "4/4 - 0s - loss: 16.3542 - accuracy: 0.4732 - 152ms/epoch - 38ms/step\n",
            "Epoch 5/5\n",
            "4/4 - 0s - loss: 9.4658 - accuracy: 0.5089 - 145ms/epoch - 36ms/step\n",
            "4/4 [==============================] - 0s 19ms/step - loss: 0.8651 - accuracy: 0.5000\n",
            "Epoch 1/5\n",
            "4/4 - 1s - loss: 450.2370 - accuracy: 0.5446 - 1s/epoch - 300ms/step\n",
            "Epoch 2/5\n",
            "4/4 - 0s - loss: 13.4421 - accuracy: 0.4464 - 240ms/epoch - 60ms/step\n",
            "Epoch 3/5\n",
            "4/4 - 0s - loss: 1.5049 - accuracy: 0.6429 - 237ms/epoch - 59ms/step\n",
            "Epoch 4/5\n",
            "4/4 - 0s - loss: 0.5967 - accuracy: 0.6875 - 240ms/epoch - 60ms/step\n",
            "Epoch 5/5\n",
            "4/4 - 0s - loss: 0.6295 - accuracy: 0.7768 - 228ms/epoch - 57ms/step\n",
            "4/4 [==============================] - 0s 28ms/step - loss: 0.6418 - accuracy: 0.7946\n",
            "Epoch 1/5\n",
            "4/4 - 3s - loss: 328.6446 - accuracy: 0.5268 - 3s/epoch - 826ms/step\n",
            "Epoch 2/5\n",
            "4/4 - 0s - loss: 4.4965 - accuracy: 0.5446 - 487ms/epoch - 122ms/step\n",
            "Epoch 3/5\n",
            "4/4 - 0s - loss: 0.7639 - accuracy: 0.5893 - 491ms/epoch - 123ms/step\n",
            "Epoch 4/5\n",
            "4/4 - 0s - loss: 0.6854 - accuracy: 0.6964 - 487ms/epoch - 122ms/step\n",
            "Epoch 5/5\n",
            "4/4 - 0s - loss: 0.6232 - accuracy: 0.6786 - 483ms/epoch - 121ms/step\n",
            "4/4 [==============================] - 0s 50ms/step - loss: 0.5277 - accuracy: 0.7500\n"
          ]
        },
        {
          "output_type": "stream",
          "name": "stderr",
          "text": [
            "\r 33%|███▎      | 1/3 [00:12<00:24, 12.09s/it]"
          ]
        },
        {
          "output_type": "stream",
          "name": "stdout",
          "text": [
            "Epoch 1/5\n",
            "4/4 - 1s - loss: 734.1766 - accuracy: 0.5089 - 642ms/epoch - 161ms/step\n",
            "Epoch 2/5\n",
            "4/4 - 0s - loss: 187.8229 - accuracy: 0.4554 - 153ms/epoch - 38ms/step\n",
            "Epoch 3/5\n",
            "4/4 - 0s - loss: 18.9713 - accuracy: 0.4911 - 151ms/epoch - 38ms/step\n",
            "Epoch 4/5\n",
            "4/4 - 0s - loss: 0.9515 - accuracy: 0.7232 - 154ms/epoch - 38ms/step\n",
            "Epoch 5/5\n",
            "4/4 - 0s - loss: 0.6166 - accuracy: 0.8125 - 144ms/epoch - 36ms/step\n",
            "4/4 [==============================] - 0s 19ms/step - loss: 0.6593 - accuracy: 0.8661\n",
            "Epoch 1/5\n",
            "4/4 - 1s - loss: 120.8432 - accuracy: 0.5446 - 713ms/epoch - 178ms/step\n",
            "Epoch 2/5\n",
            "4/4 - 0s - loss: 5.4052 - accuracy: 0.6964 - 235ms/epoch - 59ms/step\n",
            "Epoch 3/5\n",
            "4/4 - 0s - loss: 1.2600 - accuracy: 0.5446 - 237ms/epoch - 59ms/step\n",
            "Epoch 4/5\n",
            "4/4 - 0s - loss: 0.6927 - accuracy: 0.4821 - 237ms/epoch - 59ms/step\n",
            "Epoch 5/5\n",
            "4/4 - 0s - loss: 0.6932 - accuracy: 0.5357 - 232ms/epoch - 58ms/step\n",
            "4/4 [==============================] - 0s 28ms/step - loss: 0.6931 - accuracy: 0.5000\n",
            "Epoch 1/5\n",
            "4/4 - 1s - loss: 506.7139 - accuracy: 0.4732 - 625ms/epoch - 156ms/step\n",
            "Epoch 2/5\n",
            "4/4 - 0s - loss: 72.2951 - accuracy: 0.5179 - 148ms/epoch - 37ms/step\n",
            "Epoch 3/5\n",
            "4/4 - 0s - loss: 2.2743 - accuracy: 0.6250 - 147ms/epoch - 37ms/step\n",
            "Epoch 4/5\n",
            "4/4 - 0s - loss: 0.4720 - accuracy: 0.7589 - 147ms/epoch - 37ms/step\n",
            "Epoch 5/5\n",
            "4/4 - 0s - loss: 0.3995 - accuracy: 0.8482 - 144ms/epoch - 36ms/step\n",
            "4/4 [==============================] - 0s 19ms/step - loss: 0.1660 - accuracy: 0.9732\n"
          ]
        },
        {
          "output_type": "stream",
          "name": "stderr",
          "text": [
            "\r 67%|██████▋   | 2/3 [00:18<00:08,  8.85s/it]"
          ]
        },
        {
          "output_type": "stream",
          "name": "stdout",
          "text": [
            "Epoch 1/5\n",
            "4/4 - 1s - loss: 401.1234 - accuracy: 0.4643 - 620ms/epoch - 155ms/step\n",
            "Epoch 2/5\n",
            "4/4 - 0s - loss: 87.0773 - accuracy: 0.5000 - 148ms/epoch - 37ms/step\n",
            "Epoch 3/5\n",
            "4/4 - 0s - loss: 0.8083 - accuracy: 0.4732 - 148ms/epoch - 37ms/step\n",
            "Epoch 4/5\n",
            "4/4 - 0s - loss: 0.6995 - accuracy: 0.4911 - 149ms/epoch - 37ms/step\n",
            "Epoch 5/5\n",
            "4/4 - 0s - loss: 0.6931 - accuracy: 0.5000 - 139ms/epoch - 35ms/step\n",
            "4/4 [==============================] - 0s 19ms/step - loss: 0.6931 - accuracy: 0.5000\n",
            "Epoch 1/5\n",
            "4/4 - 1s - loss: 450.4927 - accuracy: 0.4464 - 657ms/epoch - 164ms/step\n",
            "Epoch 2/5\n",
            "4/4 - 0s - loss: 47.4480 - accuracy: 0.4643 - 148ms/epoch - 37ms/step\n",
            "Epoch 3/5\n",
            "4/4 - 0s - loss: 4.1071 - accuracy: 0.5714 - 149ms/epoch - 37ms/step\n",
            "Epoch 4/5\n",
            "4/4 - 0s - loss: 0.5775 - accuracy: 0.6250 - 148ms/epoch - 37ms/step\n",
            "Epoch 5/5\n",
            "4/4 - 0s - loss: 0.4802 - accuracy: 0.7589 - 142ms/epoch - 35ms/step\n",
            "4/4 [==============================] - 0s 19ms/step - loss: 0.4100 - accuracy: 0.8839\n",
            "Epoch 1/5\n",
            "4/4 - 1s - loss: 729.0440 - accuracy: 0.5000 - 942ms/epoch - 235ms/step\n",
            "Epoch 2/5\n",
            "4/4 - 0s - loss: 179.2487 - accuracy: 0.5268 - 149ms/epoch - 37ms/step\n",
            "Epoch 3/5\n",
            "4/4 - 0s - loss: 14.6435 - accuracy: 0.4911 - 149ms/epoch - 37ms/step\n",
            "Epoch 4/5\n",
            "4/4 - 0s - loss: 0.6284 - accuracy: 0.6339 - 147ms/epoch - 37ms/step\n",
            "Epoch 5/5\n",
            "4/4 - 0s - loss: 0.6579 - accuracy: 0.6250 - 142ms/epoch - 36ms/step\n",
            "4/4 [==============================] - 0s 20ms/step - loss: 0.6359 - accuracy: 0.6786\n"
          ]
        },
        {
          "output_type": "stream",
          "name": "stderr",
          "text": [
            "                                             "
          ]
        },
        {
          "output_type": "stream",
          "name": "stdout",
          "text": [
            "\n",
            " accuracy 0.9732142686843872\n",
            "start_point = {'keras.compile.0': {'loss': ['binary_crossentropy'], 'optimizer': ['adam']}, 'keras.fit.0': {'epochs': [5], 'batch_size': [32], 'verbose': [2]}, 'keras.layers.Conv2D.1': {'filters': [32], 'kernel_size': [(3, 3)], 'activation': ['relu'], 'input_shape': [(256, 256, 3)]}, 'keras.layers.MaxPooling2D.2': {'pool_size': [(2, 2)]}, 'keras.layers.Conv2D.3': {'filters': [16], 'kernel_size': [(3, 3)], 'activation': ['relu']}, 'keras.layers.MaxPooling2D.4': {'pool_size': [(2, 2)]}, 'keras.layers.Flatten.5': {}, 'keras.layers.Dense.6': {'units': [40], 'activation': ['relu']}, 'keras.layers.Dropout.7': {'rate': [0.4]}, 'keras.layers.Dense.8': {'units': [2], 'activation': ['softmax']}}\n",
            "1/4 [======>.......................] - ETA: 0s - loss: 6.3930 - accuracy: 0.4688"
          ]
        },
        {
          "output_type": "stream",
          "name": "stderr",
          "text": [
            "\r"
          ]
        },
        {
          "output_type": "stream",
          "name": "stdout",
          "text": [
            "4/4 [==============================] - 0s 63ms/step - loss: 2.0744 - accuracy: 0.7857\n",
            "time: 47.61406207084656\n",
            "1/1 [==============================] - 0s 50ms/step - loss: 0.6456 - accuracy: 0.7143\n",
            "test score: 0.7142857313156128\n"
          ]
        }
      ]
    },
    {
      "cell_type": "code",
      "source": [
        "# KFOLD CROSS VALIDATION"
      ],
      "metadata": {
        "id": "7bbfMDXnmj-S"
      },
      "execution_count": null,
      "outputs": []
    },
    {
      "cell_type": "code",
      "source": [],
      "metadata": {
        "id": "LXjZ4n9l0GJf"
      },
      "execution_count": null,
      "outputs": []
    },
    {
      "cell_type": "code",
      "source": [
        "import numpy as np\n",
        "from sklearn.model_selection import KFold"
      ],
      "metadata": {
        "id": "sH6V0XmKch55"
      },
      "execution_count": null,
      "outputs": []
    },
    {
      "cell_type": "code",
      "source": [
        "kf = KFold(n_splits=5)"
      ],
      "metadata": {
        "id": "Op-_FnXwctJZ"
      },
      "execution_count": null,
      "outputs": []
    },
    {
      "cell_type": "code",
      "source": [
        "kf.get_n_splits(image_data)"
      ],
      "metadata": {
        "colab": {
          "base_uri": "https://localhost:8080/"
        },
        "id": "35bE7sxfexd3",
        "outputId": "6b5383f5-6eea-467e-ea63-46cde3560662"
      },
      "execution_count": null,
      "outputs": [
        {
          "output_type": "execute_result",
          "data": {
            "text/plain": [
              "5"
            ]
          },
          "metadata": {},
          "execution_count": 18
        }
      ]
    },
    {
      "cell_type": "code",
      "source": [
        "image_data = np.array(image_data)\n",
        "labels = np.array(labels)\n",
        "\n",
        "\n",
        "\n",
        "for train_index,test_index in kf.split(image_data):\n",
        "  X_train, X_test = image_data[train_index], image_data[test_index]\n",
        "  y_train, y_test = labels[train_index], labels[test_index]\n",
        "  print(X_train.shape,X_test.shape)\n",
        "\n",
        "  #y_train = np.asarray(y_train).astype('float32').reshape((-1,1))\n",
        "  #y_test = np.asarray(y_test).astype('float32').reshape((-1,1))\n",
        "  y_train = np_utils.to_categorical(y_train, num_classes = 2)\n",
        "  y_test = np_utils.to_categorical(y_test, num_classes = 2)\n",
        "  t1 = time.time()\n",
        "# search best hyperparameter for given data\n",
        "  h = Optimizer.fit(X_train, y_train)\n",
        "\n",
        "  t2 = time.time()\n",
        "  print(\"time: {}\".format(t2-t1))\n",
        "\n",
        "  # predict from test data\n",
        "  Optimizer.predict(X_test)\n",
        "\n",
        "  # calculate accuracy score\n",
        "  score = Optimizer.score(X_test, y_test)\n",
        "\n",
        "  print(\"Test score: {}\".format(score))"
      ],
      "metadata": {
        "colab": {
          "base_uri": "https://localhost:8080/"
        },
        "id": "ym_b4Jxre3Ta",
        "outputId": "ee08fd3e-53ea-42e1-fdce-c7c65383a517"
      },
      "execution_count": null,
      "outputs": [
        {
          "output_type": "stream",
          "name": "stdout",
          "text": [
            "(112, 256, 256, 3) (28, 256, 256, 3)\n",
            "Epoch 1/5\n",
            "4/4 - 1s - loss: 412.5158 - accuracy: 0.5179 - 809ms/epoch - 202ms/step\n",
            "Epoch 2/5\n",
            "4/4 - 0s - loss: 55.5989 - accuracy: 0.5268 - 256ms/epoch - 64ms/step\n",
            "Epoch 3/5\n",
            "4/4 - 0s - loss: 1.2626 - accuracy: 0.5446 - 264ms/epoch - 66ms/step\n",
            "Epoch 4/5\n",
            "4/4 - 0s - loss: 1.0189 - accuracy: 0.6071 - 258ms/epoch - 64ms/step\n",
            "Epoch 5/5\n",
            "4/4 - 0s - loss: 0.6691 - accuracy: 0.7411 - 251ms/epoch - 63ms/step\n",
            "4/4 [==============================] - 0s 30ms/step - loss: 0.6059 - accuracy: 0.8482\n"
          ]
        },
        {
          "output_type": "stream",
          "name": "stderr",
          "text": [
            "\r  0%|          | 0/3 [00:00<?, ?it/s]"
          ]
        },
        {
          "output_type": "stream",
          "name": "stdout",
          "text": [
            "Epoch 1/5\n",
            "4/4 - 1s - loss: 858.8124 - accuracy: 0.5000 - 651ms/epoch - 163ms/step\n",
            "Epoch 2/5\n",
            "4/4 - 0s - loss: 64.7830 - accuracy: 0.5625 - 155ms/epoch - 39ms/step\n",
            "Epoch 3/5\n",
            "4/4 - 0s - loss: 21.8753 - accuracy: 0.5000 - 151ms/epoch - 38ms/step\n",
            "Epoch 4/5\n",
            "4/4 - 0s - loss: 2.8573 - accuracy: 0.5179 - 149ms/epoch - 37ms/step\n",
            "Epoch 5/5\n",
            "4/4 - 0s - loss: 3.1364 - accuracy: 0.5625 - 149ms/epoch - 37ms/step\n",
            "4/4 [==============================] - 0s 19ms/step - loss: 0.6610 - accuracy: 0.7143\n",
            "Epoch 1/5\n",
            "4/4 - 1s - loss: 88.1647 - accuracy: 0.4554 - 728ms/epoch - 182ms/step\n",
            "Epoch 2/5\n",
            "4/4 - 0s - loss: 4.3626 - accuracy: 0.5625 - 240ms/epoch - 60ms/step\n",
            "Epoch 3/5\n",
            "4/4 - 0s - loss: 0.6506 - accuracy: 0.6250 - 239ms/epoch - 60ms/step\n",
            "Epoch 4/5\n",
            "4/4 - 0s - loss: 0.5481 - accuracy: 0.6875 - 239ms/epoch - 60ms/step\n",
            "Epoch 5/5\n",
            "4/4 - 0s - loss: 0.5101 - accuracy: 0.7589 - 232ms/epoch - 58ms/step\n",
            "4/4 [==============================] - 0s 28ms/step - loss: 0.4442 - accuracy: 0.8750\n",
            "Epoch 1/5\n",
            "4/4 - 1s - loss: 412.1469 - accuracy: 0.5357 - 999ms/epoch - 250ms/step\n",
            "Epoch 2/5\n",
            "4/4 - 1s - loss: 18.1860 - accuracy: 0.4554 - 505ms/epoch - 126ms/step\n",
            "Epoch 3/5\n",
            "4/4 - 1s - loss: 0.7463 - accuracy: 0.6071 - 506ms/epoch - 126ms/step\n",
            "Epoch 4/5\n",
            "4/4 - 1s - loss: 0.5379 - accuracy: 0.6518 - 509ms/epoch - 127ms/step\n",
            "Epoch 5/5\n",
            "4/4 - 0s - loss: 0.5478 - accuracy: 0.6964 - 496ms/epoch - 124ms/step\n",
            "4/4 [==============================] - 0s 51ms/step - loss: 0.5227 - accuracy: 0.8393\n"
          ]
        },
        {
          "output_type": "stream",
          "name": "stderr",
          "text": [
            "\r 33%|███▎      | 1/3 [00:07<00:15,  7.52s/it]"
          ]
        },
        {
          "output_type": "stream",
          "name": "stdout",
          "text": [
            "Epoch 1/5\n",
            "4/4 - 1s - loss: 256.6010 - accuracy: 0.5446 - 654ms/epoch - 164ms/step\n",
            "Epoch 2/5\n",
            "4/4 - 0s - loss: 88.1538 - accuracy: 0.4643 - 154ms/epoch - 38ms/step\n",
            "Epoch 3/5\n",
            "4/4 - 0s - loss: 5.2738 - accuracy: 0.5893 - 154ms/epoch - 39ms/step\n",
            "Epoch 4/5\n",
            "4/4 - 0s - loss: 0.4535 - accuracy: 0.8036 - 156ms/epoch - 39ms/step\n",
            "Epoch 5/5\n",
            "4/4 - 0s - loss: 0.3553 - accuracy: 0.8929 - 148ms/epoch - 37ms/step\n",
            "4/4 [==============================] - 0s 20ms/step - loss: 0.2683 - accuracy: 0.9821\n",
            "Epoch 1/5\n",
            "4/4 - 1s - loss: 193.0846 - accuracy: 0.5179 - 751ms/epoch - 188ms/step\n",
            "Epoch 2/5\n",
            "4/4 - 0s - loss: 4.4712 - accuracy: 0.5446 - 241ms/epoch - 60ms/step\n",
            "Epoch 3/5\n",
            "4/4 - 0s - loss: 0.5727 - accuracy: 0.6250 - 241ms/epoch - 60ms/step\n",
            "Epoch 4/5\n",
            "4/4 - 0s - loss: 0.4960 - accuracy: 0.7054 - 244ms/epoch - 61ms/step\n",
            "Epoch 5/5\n",
            "4/4 - 0s - loss: 0.4506 - accuracy: 0.7500 - 235ms/epoch - 59ms/step\n",
            "4/4 [==============================] - 0s 29ms/step - loss: 0.3831 - accuracy: 0.7411\n",
            "Epoch 1/5\n",
            "4/4 - 1s - loss: 1035.7047 - accuracy: 0.4732 - 641ms/epoch - 160ms/step\n",
            "Epoch 2/5\n",
            "4/4 - 0s - loss: 229.7350 - accuracy: 0.4821 - 150ms/epoch - 38ms/step\n",
            "Epoch 3/5\n",
            "4/4 - 0s - loss: 17.2141 - accuracy: 0.4643 - 154ms/epoch - 39ms/step\n",
            "Epoch 4/5\n",
            "4/4 - 0s - loss: 0.6932 - accuracy: 0.4821 - 153ms/epoch - 38ms/step\n",
            "Epoch 5/5\n",
            "4/4 - 0s - loss: 0.6991 - accuracy: 0.4643 - 145ms/epoch - 36ms/step\n",
            "4/4 [==============================] - 0s 21ms/step - loss: 0.6932 - accuracy: 0.4821\n"
          ]
        },
        {
          "output_type": "stream",
          "name": "stderr",
          "text": [
            "\r 67%|██████▋   | 2/3 [00:13<00:06,  6.72s/it]"
          ]
        },
        {
          "output_type": "stream",
          "name": "stdout",
          "text": [
            "Epoch 1/5\n",
            "4/4 - 1s - loss: 202.1798 - accuracy: 0.4911 - 621ms/epoch - 155ms/step\n",
            "Epoch 2/5\n",
            "4/4 - 0s - loss: 41.0404 - accuracy: 0.5625 - 156ms/epoch - 39ms/step\n",
            "Epoch 3/5\n",
            "4/4 - 0s - loss: 12.1013 - accuracy: 0.4821 - 154ms/epoch - 39ms/step\n",
            "Epoch 4/5\n",
            "4/4 - 0s - loss: 1.0706 - accuracy: 0.5268 - 155ms/epoch - 39ms/step\n",
            "Epoch 5/5\n",
            "4/4 - 0s - loss: 0.6415 - accuracy: 0.5982 - 143ms/epoch - 36ms/step\n",
            "4/4 [==============================] - 0s 19ms/step - loss: 0.5530 - accuracy: 0.6518\n",
            "Epoch 1/5\n",
            "4/4 - 1s - loss: 357.1382 - accuracy: 0.4821 - 641ms/epoch - 160ms/step\n",
            "Epoch 2/5\n",
            "4/4 - 0s - loss: 56.5727 - accuracy: 0.5714 - 152ms/epoch - 38ms/step\n",
            "Epoch 3/5\n",
            "4/4 - 0s - loss: 3.1218 - accuracy: 0.6161 - 150ms/epoch - 38ms/step\n",
            "Epoch 4/5\n",
            "4/4 - 0s - loss: 0.8256 - accuracy: 0.6339 - 153ms/epoch - 38ms/step\n",
            "Epoch 5/5\n",
            "4/4 - 0s - loss: 0.4962 - accuracy: 0.8839 - 143ms/epoch - 36ms/step\n",
            "4/4 [==============================] - 0s 20ms/step - loss: 0.4726 - accuracy: 0.9107\n",
            "Epoch 1/5\n",
            "4/4 - 3s - loss: 261.2967 - accuracy: 0.5893 - 3s/epoch - 643ms/step\n",
            "Epoch 2/5\n",
            "4/4 - 0s - loss: 63.4302 - accuracy: 0.4375 - 459ms/epoch - 115ms/step\n",
            "Epoch 3/5\n",
            "4/4 - 0s - loss: 0.6423 - accuracy: 0.5714 - 455ms/epoch - 114ms/step\n",
            "Epoch 4/5\n",
            "4/4 - 0s - loss: 0.6212 - accuracy: 0.5893 - 450ms/epoch - 112ms/step\n",
            "Epoch 5/5\n",
            "4/4 - 0s - loss: 0.5992 - accuracy: 0.7143 - 448ms/epoch - 112ms/step\n",
            "4/4 [==============================] - 0s 46ms/step - loss: 0.4650 - accuracy: 0.7232\n"
          ]
        },
        {
          "output_type": "stream",
          "name": "stderr",
          "text": [
            "                                             "
          ]
        },
        {
          "output_type": "stream",
          "name": "stdout",
          "text": [
            "\n",
            " accuracy 0.9821428656578064\n",
            "start_point = {'keras.compile.0': {'loss': ['binary_crossentropy'], 'optimizer': ['adam']}, 'keras.fit.0': {'epochs': [5], 'batch_size': [32], 'verbose': [2]}, 'keras.layers.Conv2D.1': {'filters': [32], 'kernel_size': [(3, 3)], 'activation': ['relu'], 'input_shape': [(256, 256, 3)]}, 'keras.layers.MaxPooling2D.2': {'pool_size': [(2, 2)]}, 'keras.layers.Conv2D.3': {'filters': [16], 'kernel_size': [(3, 3)], 'activation': ['relu']}, 'keras.layers.MaxPooling2D.4': {'pool_size': [(2, 2)]}, 'keras.layers.Flatten.5': {}, 'keras.layers.Dense.6': {'units': [60], 'activation': ['relu']}, 'keras.layers.Dropout.7': {'rate': [0.4]}, 'keras.layers.Dense.8': {'units': [2], 'activation': ['softmax']}}\n",
            "1/4 [======>.......................] - ETA: 0s - loss: 0.5883 - accuracy: 0.9375"
          ]
        },
        {
          "output_type": "stream",
          "name": "stderr",
          "text": [
            "\r"
          ]
        },
        {
          "output_type": "stream",
          "name": "stdout",
          "text": [
            "4/4 [==============================] - 0s 66ms/step - loss: 0.6003 - accuracy: 0.7589\n",
            "time: 27.51036834716797\n",
            "1/1 [==============================] - 0s 48ms/step - loss: 0.5364 - accuracy: 0.6071\n",
            "test score: 0.6071428656578064\n",
            "(112, 256, 256, 3) (28, 256, 256, 3)\n",
            "Epoch 1/5\n",
            "4/4 - 1s - loss: 668.1488 - accuracy: 0.4464 - 787ms/epoch - 197ms/step\n",
            "Epoch 2/5\n",
            "4/4 - 0s - loss: 117.5100 - accuracy: 0.4821 - 266ms/epoch - 67ms/step\n",
            "Epoch 3/5\n",
            "4/4 - 0s - loss: 0.6046 - accuracy: 0.5893 - 262ms/epoch - 65ms/step\n",
            "Epoch 4/5\n",
            "4/4 - 0s - loss: 0.5499 - accuracy: 0.5179 - 263ms/epoch - 66ms/step\n",
            "Epoch 5/5\n",
            "4/4 - 0s - loss: 0.4967 - accuracy: 0.5625 - 257ms/epoch - 64ms/step\n",
            "4/4 [==============================] - 0s 30ms/step - loss: 0.4587 - accuracy: 0.7232\n"
          ]
        },
        {
          "output_type": "stream",
          "name": "stderr",
          "text": [
            "\r  0%|          | 0/3 [00:00<?, ?it/s]"
          ]
        },
        {
          "output_type": "stream",
          "name": "stdout",
          "text": [
            "Epoch 1/5\n",
            "4/4 - 1s - loss: 509.4151 - accuracy: 0.4821 - 666ms/epoch - 167ms/step\n",
            "Epoch 2/5\n",
            "4/4 - 0s - loss: 46.6224 - accuracy: 0.5536 - 164ms/epoch - 41ms/step\n",
            "Epoch 3/5\n",
            "4/4 - 0s - loss: 10.3602 - accuracy: 0.5625 - 160ms/epoch - 40ms/step\n",
            "Epoch 4/5\n",
            "4/4 - 0s - loss: 13.8981 - accuracy: 0.5089 - 158ms/epoch - 40ms/step\n",
            "Epoch 5/5\n",
            "4/4 - 0s - loss: 4.4729 - accuracy: 0.5089 - 151ms/epoch - 38ms/step\n",
            "4/4 [==============================] - 0s 19ms/step - loss: 0.6897 - accuracy: 0.5893\n",
            "Epoch 1/5\n",
            "4/4 - 1s - loss: 435.7768 - accuracy: 0.5357 - 752ms/epoch - 188ms/step\n",
            "Epoch 2/5\n",
            "4/4 - 0s - loss: 22.7717 - accuracy: 0.5536 - 246ms/epoch - 61ms/step\n",
            "Epoch 3/5\n",
            "4/4 - 0s - loss: 4.3656 - accuracy: 0.5357 - 246ms/epoch - 62ms/step\n",
            "Epoch 4/5\n",
            "4/4 - 0s - loss: 0.6986 - accuracy: 0.5357 - 244ms/epoch - 61ms/step\n",
            "Epoch 5/5\n",
            "4/4 - 0s - loss: 0.6931 - accuracy: 0.5268 - 237ms/epoch - 59ms/step\n",
            "4/4 [==============================] - 0s 30ms/step - loss: 0.6930 - accuracy: 0.5268\n",
            "Epoch 1/5\n",
            "4/4 - 1s - loss: 843.4852 - accuracy: 0.4554 - 1s/epoch - 260ms/step\n",
            "Epoch 2/5\n",
            "4/4 - 1s - loss: 2.0963 - accuracy: 0.4643 - 528ms/epoch - 132ms/step\n",
            "Epoch 3/5\n",
            "4/4 - 1s - loss: 0.6953 - accuracy: 0.4732 - 506ms/epoch - 126ms/step\n",
            "Epoch 4/5\n",
            "4/4 - 1s - loss: 0.6927 - accuracy: 0.5804 - 517ms/epoch - 129ms/step\n",
            "Epoch 5/5\n",
            "4/4 - 1s - loss: 0.6924 - accuracy: 0.5089 - 508ms/epoch - 127ms/step\n",
            "4/4 [==============================] - 0s 53ms/step - loss: 0.6924 - accuracy: 0.5268\n"
          ]
        },
        {
          "output_type": "stream",
          "name": "stderr",
          "text": [
            "\r 33%|███▎      | 1/3 [00:07<00:15,  7.68s/it]"
          ]
        },
        {
          "output_type": "stream",
          "name": "stdout",
          "text": [
            "Epoch 1/5\n",
            "4/4 - 1s - loss: 111.6352 - accuracy: 0.5536 - 662ms/epoch - 166ms/step\n",
            "Epoch 2/5\n",
            "4/4 - 0s - loss: 35.9407 - accuracy: 0.5000 - 151ms/epoch - 38ms/step\n",
            "Epoch 3/5\n",
            "4/4 - 0s - loss: 1.6081 - accuracy: 0.5893 - 160ms/epoch - 40ms/step\n",
            "Epoch 4/5\n",
            "4/4 - 0s - loss: 0.6719 - accuracy: 0.5625 - 156ms/epoch - 39ms/step\n",
            "Epoch 5/5\n",
            "4/4 - 0s - loss: 0.6713 - accuracy: 0.6339 - 150ms/epoch - 38ms/step\n",
            "4/4 [==============================] - 0s 21ms/step - loss: 0.6625 - accuracy: 0.8661\n",
            "Epoch 1/5\n",
            "4/4 - 1s - loss: 927.4486 - accuracy: 0.4643 - 770ms/epoch - 192ms/step\n",
            "Epoch 2/5\n",
            "4/4 - 0s - loss: 1.8916 - accuracy: 0.5089 - 267ms/epoch - 67ms/step\n",
            "Epoch 3/5\n",
            "4/4 - 0s - loss: 17.4828 - accuracy: 0.5268 - 263ms/epoch - 66ms/step\n",
            "Epoch 4/5\n",
            "4/4 - 0s - loss: 4.0806 - accuracy: 0.5357 - 268ms/epoch - 67ms/step\n",
            "Epoch 5/5\n",
            "4/4 - 0s - loss: 10.0072 - accuracy: 0.5089 - 259ms/epoch - 65ms/step\n",
            "4/4 [==============================] - 0s 30ms/step - loss: 0.6930 - accuracy: 0.5268\n",
            "Epoch 1/5\n",
            "4/4 - 1s - loss: 367.4118 - accuracy: 0.4375 - 652ms/epoch - 163ms/step\n",
            "Epoch 2/5\n",
            "4/4 - 0s - loss: 115.0425 - accuracy: 0.5536 - 157ms/epoch - 39ms/step\n",
            "Epoch 3/5\n",
            "4/4 - 0s - loss: 18.4661 - accuracy: 0.5179 - 150ms/epoch - 37ms/step\n",
            "Epoch 4/5\n",
            "4/4 - 0s - loss: 5.7575 - accuracy: 0.5625 - 154ms/epoch - 38ms/step\n",
            "Epoch 5/5\n",
            "4/4 - 0s - loss: 1.3597 - accuracy: 0.5357 - 143ms/epoch - 36ms/step\n",
            "4/4 [==============================] - 0s 21ms/step - loss: 0.4768 - accuracy: 0.7500\n"
          ]
        },
        {
          "output_type": "stream",
          "name": "stderr",
          "text": [
            "\r 67%|██████▋   | 2/3 [00:15<00:07,  7.54s/it]"
          ]
        },
        {
          "output_type": "stream",
          "name": "stdout",
          "text": [
            "Epoch 1/5\n",
            "4/4 - 1s - loss: 555.8407 - accuracy: 0.5714 - 636ms/epoch - 159ms/step\n",
            "Epoch 2/5\n",
            "4/4 - 0s - loss: 88.1875 - accuracy: 0.4732 - 155ms/epoch - 39ms/step\n",
            "Epoch 3/5\n",
            "4/4 - 0s - loss: 2.6285 - accuracy: 0.5089 - 147ms/epoch - 37ms/step\n",
            "Epoch 4/5\n",
            "4/4 - 0s - loss: 0.8634 - accuracy: 0.4911 - 155ms/epoch - 39ms/step\n",
            "Epoch 5/5\n",
            "4/4 - 0s - loss: 0.4433 - accuracy: 0.6786 - 148ms/epoch - 37ms/step\n",
            "4/4 [==============================] - 0s 20ms/step - loss: 0.3505 - accuracy: 0.9643\n",
            "Epoch 1/5\n",
            "4/4 - 1s - loss: 537.4779 - accuracy: 0.4821 - 1s/epoch - 264ms/step\n",
            "Epoch 2/5\n",
            "4/4 - 0s - loss: 208.4382 - accuracy: 0.4643 - 168ms/epoch - 42ms/step\n",
            "Epoch 3/5\n",
            "4/4 - 0s - loss: 12.1637 - accuracy: 0.5268 - 169ms/epoch - 42ms/step\n",
            "Epoch 4/5\n",
            "4/4 - 0s - loss: 0.9314 - accuracy: 0.7500 - 166ms/epoch - 41ms/step\n",
            "Epoch 5/5\n",
            "4/4 - 0s - loss: 0.3879 - accuracy: 0.8482 - 165ms/epoch - 41ms/step\n",
            "4/4 [==============================] - 0s 22ms/step - loss: 0.2627 - accuracy: 0.9018\n",
            "Epoch 1/5\n",
            "4/4 - 1s - loss: 441.7695 - accuracy: 0.4643 - 644ms/epoch - 161ms/step\n",
            "Epoch 2/5\n",
            "4/4 - 0s - loss: 60.4928 - accuracy: 0.4821 - 153ms/epoch - 38ms/step\n",
            "Epoch 3/5\n",
            "4/4 - 0s - loss: 1.9264 - accuracy: 0.4732 - 156ms/epoch - 39ms/step\n",
            "Epoch 4/5\n",
            "4/4 - 0s - loss: 0.6599 - accuracy: 0.5893 - 150ms/epoch - 37ms/step\n",
            "Epoch 5/5\n",
            "4/4 - 0s - loss: 0.6618 - accuracy: 0.6429 - 144ms/epoch - 36ms/step\n",
            "4/4 [==============================] - 0s 20ms/step - loss: 0.6603 - accuracy: 0.7857\n"
          ]
        },
        {
          "output_type": "stream",
          "name": "stderr",
          "text": [
            "                                             "
          ]
        },
        {
          "output_type": "stream",
          "name": "stdout",
          "text": [
            "\n",
            " accuracy 0.9642857313156128\n",
            "start_point = {'keras.compile.0': {'loss': ['binary_crossentropy'], 'optimizer': ['adam']}, 'keras.fit.0': {'epochs': [5], 'batch_size': [32], 'verbose': [2]}, 'keras.layers.Conv2D.1': {'filters': [32], 'kernel_size': [(3, 3)], 'activation': ['relu'], 'input_shape': [(256, 256, 3)]}, 'keras.layers.MaxPooling2D.2': {'pool_size': [(2, 2)]}, 'keras.layers.Conv2D.3': {'filters': [16], 'kernel_size': [(3, 3)], 'activation': ['relu']}, 'keras.layers.MaxPooling2D.4': {'pool_size': [(2, 2)]}, 'keras.layers.Flatten.5': {}, 'keras.layers.Dense.6': {'units': [30], 'activation': ['relu']}, 'keras.layers.Dropout.7': {'rate': [0.2]}, 'keras.layers.Dense.8': {'units': [2], 'activation': ['softmax']}}\n",
            "1/4 [======>.......................] - ETA: 0s - loss: 0.4927 - accuracy: 0.7812"
          ]
        },
        {
          "output_type": "stream",
          "name": "stderr",
          "text": [
            "\r"
          ]
        },
        {
          "output_type": "stream",
          "name": "stdout",
          "text": [
            "4/4 [==============================] - 0s 63ms/step - loss: 0.4790 - accuracy: 0.7232\n",
            "time: 25.07243537902832\n",
            "1/1 [==============================] - 0s 49ms/step - loss: 0.3826 - accuracy: 0.6786\n",
            "test score: 0.6785714030265808\n",
            "(112, 256, 256, 3) (28, 256, 256, 3)\n",
            "Epoch 1/5\n",
            "4/4 - 1s - loss: 750.4852 - accuracy: 0.5446 - 1s/epoch - 292ms/step\n",
            "Epoch 2/5\n",
            "4/4 - 0s - loss: 47.4151 - accuracy: 0.5268 - 263ms/epoch - 66ms/step\n",
            "Epoch 3/5\n",
            "4/4 - 0s - loss: 1.7417 - accuracy: 0.5000 - 263ms/epoch - 66ms/step\n",
            "Epoch 4/5\n",
            "4/4 - 0s - loss: 0.7223 - accuracy: 0.4732 - 260ms/epoch - 65ms/step\n",
            "Epoch 5/5\n",
            "4/4 - 0s - loss: 0.6932 - accuracy: 0.5000 - 256ms/epoch - 64ms/step\n",
            "4/4 [==============================] - 0s 30ms/step - loss: 0.6932 - accuracy: 0.5000\n"
          ]
        },
        {
          "output_type": "stream",
          "name": "stderr",
          "text": [
            "\r  0%|          | 0/3 [00:00<?, ?it/s]"
          ]
        },
        {
          "output_type": "stream",
          "name": "stdout",
          "text": [
            "Epoch 1/5\n",
            "4/4 - 1s - loss: 852.9330 - accuracy: 0.4821 - 649ms/epoch - 162ms/step\n",
            "Epoch 2/5\n",
            "4/4 - 0s - loss: 293.0421 - accuracy: 0.5357 - 153ms/epoch - 38ms/step\n",
            "Epoch 3/5\n",
            "4/4 - 0s - loss: 75.4654 - accuracy: 0.4196 - 151ms/epoch - 38ms/step\n",
            "Epoch 4/5\n",
            "4/4 - 0s - loss: 4.7757 - accuracy: 0.5714 - 155ms/epoch - 39ms/step\n",
            "Epoch 5/5\n",
            "4/4 - 0s - loss: 0.5843 - accuracy: 0.6964 - 149ms/epoch - 37ms/step\n",
            "4/4 [==============================] - 0s 19ms/step - loss: 0.4216 - accuracy: 0.8571\n",
            "Epoch 1/5\n",
            "4/4 - 1s - loss: 415.7275 - accuracy: 0.4643 - 731ms/epoch - 183ms/step\n",
            "Epoch 2/5\n",
            "4/4 - 0s - loss: 38.9207 - accuracy: 0.4643 - 244ms/epoch - 61ms/step\n",
            "Epoch 3/5\n",
            "4/4 - 0s - loss: 1.7555 - accuracy: 0.5089 - 244ms/epoch - 61ms/step\n",
            "Epoch 4/5\n",
            "4/4 - 0s - loss: 0.6930 - accuracy: 0.5000 - 245ms/epoch - 61ms/step\n",
            "Epoch 5/5\n",
            "4/4 - 0s - loss: 0.6931 - accuracy: 0.5000 - 235ms/epoch - 59ms/step\n",
            "4/4 [==============================] - 0s 30ms/step - loss: 0.6932 - accuracy: 0.5000\n",
            "Epoch 1/5\n",
            "4/4 - 1s - loss: 718.1260 - accuracy: 0.5357 - 1s/epoch - 252ms/step\n",
            "Epoch 2/5\n",
            "4/4 - 1s - loss: 11.7575 - accuracy: 0.4196 - 520ms/epoch - 130ms/step\n",
            "Epoch 3/5\n",
            "4/4 - 1s - loss: 0.6941 - accuracy: 0.4107 - 510ms/epoch - 127ms/step\n",
            "Epoch 4/5\n",
            "4/4 - 1s - loss: 0.6943 - accuracy: 0.4911 - 508ms/epoch - 127ms/step\n",
            "Epoch 5/5\n",
            "4/4 - 1s - loss: 0.6877 - accuracy: 0.5357 - 507ms/epoch - 127ms/step\n",
            "4/4 [==============================] - 0s 59ms/step - loss: 0.6015 - accuracy: 0.5179\n"
          ]
        },
        {
          "output_type": "stream",
          "name": "stderr",
          "text": [
            "\r 33%|███▎      | 1/3 [00:10<00:20, 10.07s/it]"
          ]
        },
        {
          "output_type": "stream",
          "name": "stdout",
          "text": [
            "Epoch 1/5\n",
            "4/4 - 1s - loss: 671.0850 - accuracy: 0.5536 - 656ms/epoch - 164ms/step\n",
            "Epoch 2/5\n",
            "4/4 - 0s - loss: 153.8167 - accuracy: 0.4911 - 158ms/epoch - 40ms/step\n",
            "Epoch 3/5\n",
            "4/4 - 0s - loss: 17.6009 - accuracy: 0.5625 - 150ms/epoch - 37ms/step\n",
            "Epoch 4/5\n",
            "4/4 - 0s - loss: 4.9471 - accuracy: 0.6071 - 153ms/epoch - 38ms/step\n",
            "Epoch 5/5\n",
            "4/4 - 0s - loss: 0.6015 - accuracy: 0.7321 - 146ms/epoch - 37ms/step\n",
            "4/4 [==============================] - 0s 22ms/step - loss: 1.1770 - accuracy: 0.7679\n",
            "Epoch 1/5\n",
            "4/4 - 1s - loss: 1142.7394 - accuracy: 0.5268 - 642ms/epoch - 161ms/step\n",
            "Epoch 2/5\n",
            "4/4 - 0s - loss: 187.3679 - accuracy: 0.4643 - 162ms/epoch - 40ms/step\n",
            "Epoch 3/5\n",
            "4/4 - 0s - loss: 14.7907 - accuracy: 0.5357 - 155ms/epoch - 39ms/step\n",
            "Epoch 4/5\n",
            "4/4 - 0s - loss: 0.3591 - accuracy: 0.8482 - 154ms/epoch - 39ms/step\n",
            "Epoch 5/5\n",
            "4/4 - 0s - loss: 0.1673 - accuracy: 0.9464 - 151ms/epoch - 38ms/step\n",
            "4/4 [==============================] - 0s 22ms/step - loss: 0.0518 - accuracy: 0.9911\n",
            "Epoch 1/5\n",
            "4/4 - 1s - loss: 1068.6270 - accuracy: 0.4821 - 648ms/epoch - 162ms/step\n",
            "Epoch 2/5\n",
            "4/4 - 0s - loss: 202.1982 - accuracy: 0.4375 - 153ms/epoch - 38ms/step\n",
            "Epoch 3/5\n",
            "4/4 - 0s - loss: 5.8609 - accuracy: 0.6339 - 152ms/epoch - 38ms/step\n",
            "Epoch 4/5\n",
            "4/4 - 0s - loss: 0.5068 - accuracy: 0.6607 - 156ms/epoch - 39ms/step\n",
            "Epoch 5/5\n",
            "4/4 - 0s - loss: 0.4415 - accuracy: 0.8839 - 146ms/epoch - 37ms/step\n",
            "4/4 [==============================] - 0s 20ms/step - loss: 0.3367 - accuracy: 0.9018\n"
          ]
        },
        {
          "output_type": "stream",
          "name": "stderr",
          "text": [
            "\r 67%|██████▋   | 2/3 [00:15<00:07,  7.44s/it]"
          ]
        },
        {
          "output_type": "stream",
          "name": "stdout",
          "text": [
            "Epoch 1/5\n",
            "4/4 - 1s - loss: 983.0347 - accuracy: 0.4911 - 652ms/epoch - 163ms/step\n",
            "Epoch 2/5\n",
            "4/4 - 0s - loss: 197.3514 - accuracy: 0.5179 - 154ms/epoch - 39ms/step\n",
            "Epoch 3/5\n",
            "4/4 - 0s - loss: 28.5750 - accuracy: 0.5446 - 156ms/epoch - 39ms/step\n",
            "Epoch 4/5\n",
            "4/4 - 0s - loss: 1.2373 - accuracy: 0.6161 - 154ms/epoch - 38ms/step\n",
            "Epoch 5/5\n",
            "4/4 - 0s - loss: 0.4237 - accuracy: 0.7143 - 150ms/epoch - 38ms/step\n",
            "4/4 [==============================] - 0s 20ms/step - loss: 0.3672 - accuracy: 0.7857\n",
            "Epoch 1/5\n",
            "4/4 - 1s - loss: 265.8307 - accuracy: 0.4018 - 641ms/epoch - 160ms/step\n",
            "Epoch 2/5\n",
            "4/4 - 0s - loss: 11.8595 - accuracy: 0.4643 - 152ms/epoch - 38ms/step\n",
            "Epoch 3/5\n",
            "4/4 - 0s - loss: 0.5569 - accuracy: 0.6875 - 157ms/epoch - 39ms/step\n",
            "Epoch 4/5\n",
            "4/4 - 0s - loss: 0.4444 - accuracy: 0.8482 - 154ms/epoch - 38ms/step\n",
            "Epoch 5/5\n",
            "4/4 - 0s - loss: 0.3569 - accuracy: 0.8393 - 152ms/epoch - 38ms/step\n",
            "4/4 [==============================] - 0s 20ms/step - loss: 0.3203 - accuracy: 0.9821\n",
            "Epoch 1/5\n",
            "4/4 - 1s - loss: 611.0883 - accuracy: 0.4107 - 642ms/epoch - 160ms/step\n",
            "Epoch 2/5\n",
            "4/4 - 0s - loss: 95.0234 - accuracy: 0.4911 - 155ms/epoch - 39ms/step\n",
            "Epoch 3/5\n",
            "4/4 - 0s - loss: 25.7415 - accuracy: 0.4821 - 156ms/epoch - 39ms/step\n",
            "Epoch 4/5\n",
            "4/4 - 0s - loss: 13.4365 - accuracy: 0.5446 - 158ms/epoch - 40ms/step\n",
            "Epoch 5/5\n",
            "4/4 - 0s - loss: 8.2837 - accuracy: 0.4911 - 144ms/epoch - 36ms/step\n",
            "4/4 [==============================] - 0s 21ms/step - loss: 1.9003 - accuracy: 0.8304\n"
          ]
        },
        {
          "output_type": "stream",
          "name": "stderr",
          "text": [
            "                                             "
          ]
        },
        {
          "output_type": "stream",
          "name": "stdout",
          "text": [
            "\n",
            " accuracy 0.9910714030265808\n",
            "start_point = {'keras.compile.0': {'loss': ['binary_crossentropy'], 'optimizer': ['adam']}, 'keras.fit.0': {'epochs': [5], 'batch_size': [32], 'verbose': [2]}, 'keras.layers.Conv2D.1': {'filters': [32], 'kernel_size': [(3, 3)], 'activation': ['relu'], 'input_shape': [(256, 256, 3)]}, 'keras.layers.MaxPooling2D.2': {'pool_size': [(2, 2)]}, 'keras.layers.Conv2D.3': {'filters': [16], 'kernel_size': [(3, 3)], 'activation': ['relu']}, 'keras.layers.MaxPooling2D.4': {'pool_size': [(2, 2)]}, 'keras.layers.Flatten.5': {}, 'keras.layers.Dense.6': {'units': [80], 'activation': ['relu']}, 'keras.layers.Dropout.7': {'rate': [0.2]}, 'keras.layers.Dense.8': {'units': [2], 'activation': ['softmax']}}\n",
            "1/4 [======>.......................] - ETA: 0s - loss: 0.6932 - accuracy: 0.4688"
          ]
        },
        {
          "output_type": "stream",
          "name": "stderr",
          "text": [
            "\r"
          ]
        },
        {
          "output_type": "stream",
          "name": "stdout",
          "text": [
            "4/4 [==============================] - 0s 63ms/step - loss: 0.6932 - accuracy: 0.5000\n",
            "time: 26.033323049545288\n",
            "1/1 [==============================] - 0s 46ms/step - loss: 0.6932 - accuracy: 0.5000\n",
            "test score: 0.5\n",
            "(112, 256, 256, 3) (28, 256, 256, 3)\n",
            "Epoch 1/5\n",
            "4/4 - 1s - loss: 791.9750 - accuracy: 0.4196 - 1s/epoch - 275ms/step\n",
            "Epoch 2/5\n",
            "4/4 - 0s - loss: 41.3121 - accuracy: 0.4554 - 260ms/epoch - 65ms/step\n",
            "Epoch 3/5\n",
            "4/4 - 0s - loss: 0.7281 - accuracy: 0.6071 - 262ms/epoch - 66ms/step\n",
            "Epoch 4/5\n",
            "4/4 - 0s - loss: 0.6823 - accuracy: 0.7411 - 263ms/epoch - 66ms/step\n",
            "Epoch 5/5\n",
            "4/4 - 0s - loss: 0.6876 - accuracy: 0.6429 - 255ms/epoch - 64ms/step\n",
            "4/4 [==============================] - 0s 29ms/step - loss: 0.6871 - accuracy: 0.6696\n"
          ]
        },
        {
          "output_type": "stream",
          "name": "stderr",
          "text": [
            "\r  0%|          | 0/3 [00:00<?, ?it/s]"
          ]
        },
        {
          "output_type": "stream",
          "name": "stdout",
          "text": [
            "Epoch 1/5\n",
            "4/4 - 1s - loss: 1040.0341 - accuracy: 0.5179 - 661ms/epoch - 165ms/step\n",
            "Epoch 2/5\n",
            "4/4 - 0s - loss: 107.1522 - accuracy: 0.5446 - 153ms/epoch - 38ms/step\n",
            "Epoch 3/5\n",
            "4/4 - 0s - loss: 16.0950 - accuracy: 0.5536 - 157ms/epoch - 39ms/step\n",
            "Epoch 4/5\n",
            "4/4 - 0s - loss: 7.4767 - accuracy: 0.5179 - 151ms/epoch - 38ms/step\n",
            "Epoch 5/5\n",
            "4/4 - 0s - loss: 0.8708 - accuracy: 0.5446 - 150ms/epoch - 37ms/step\n",
            "4/4 [==============================] - 0s 19ms/step - loss: 0.6244 - accuracy: 0.7679\n",
            "Epoch 1/5\n",
            "4/4 - 1s - loss: 70.5890 - accuracy: 0.5446 - 737ms/epoch - 184ms/step\n",
            "Epoch 2/5\n",
            "4/4 - 0s - loss: 3.7630 - accuracy: 0.6786 - 243ms/epoch - 61ms/step\n",
            "Epoch 3/5\n",
            "4/4 - 0s - loss: 0.5208 - accuracy: 0.6429 - 241ms/epoch - 60ms/step\n",
            "Epoch 4/5\n",
            "4/4 - 0s - loss: 0.4695 - accuracy: 0.6786 - 240ms/epoch - 60ms/step\n",
            "Epoch 5/5\n",
            "4/4 - 0s - loss: 0.4288 - accuracy: 0.7321 - 239ms/epoch - 60ms/step\n",
            "4/4 [==============================] - 0s 29ms/step - loss: 0.3494 - accuracy: 0.8929\n",
            "Epoch 1/5\n",
            "4/4 - 1s - loss: 701.0086 - accuracy: 0.5714 - 1s/epoch - 251ms/step\n",
            "Epoch 2/5\n",
            "4/4 - 1s - loss: 55.9544 - accuracy: 0.4107 - 521ms/epoch - 130ms/step\n",
            "Epoch 3/5\n",
            "4/4 - 1s - loss: 3.5857 - accuracy: 0.4464 - 509ms/epoch - 127ms/step\n",
            "Epoch 4/5\n",
            "4/4 - 1s - loss: 0.6964 - accuracy: 0.4643 - 510ms/epoch - 127ms/step\n",
            "Epoch 5/5\n",
            "4/4 - 1s - loss: 3.0758 - accuracy: 0.5089 - 501ms/epoch - 125ms/step\n",
            "4/4 [==============================] - 0s 60ms/step - loss: 0.8923 - accuracy: 0.4643\n"
          ]
        },
        {
          "output_type": "stream",
          "name": "stderr",
          "text": [
            "\r 33%|███▎      | 1/3 [00:10<00:20, 10.08s/it]"
          ]
        },
        {
          "output_type": "stream",
          "name": "stdout",
          "text": [
            "Epoch 1/5\n",
            "4/4 - 1s - loss: 710.1415 - accuracy: 0.4732 - 640ms/epoch - 160ms/step\n",
            "Epoch 2/5\n",
            "4/4 - 0s - loss: 65.7136 - accuracy: 0.5268 - 155ms/epoch - 39ms/step\n",
            "Epoch 3/5\n",
            "4/4 - 0s - loss: 6.9925 - accuracy: 0.5625 - 154ms/epoch - 38ms/step\n",
            "Epoch 4/5\n",
            "4/4 - 0s - loss: 1.7907 - accuracy: 0.5804 - 151ms/epoch - 38ms/step\n",
            "Epoch 5/5\n",
            "4/4 - 0s - loss: 0.4980 - accuracy: 0.7054 - 145ms/epoch - 36ms/step\n",
            "4/4 [==============================] - 0s 20ms/step - loss: 0.4138 - accuracy: 0.7946\n",
            "Epoch 1/5\n",
            "4/4 - 1s - loss: 231.4712 - accuracy: 0.5268 - 732ms/epoch - 183ms/step\n",
            "Epoch 2/5\n",
            "4/4 - 0s - loss: 10.2727 - accuracy: 0.5625 - 242ms/epoch - 60ms/step\n",
            "Epoch 3/5\n",
            "4/4 - 0s - loss: 0.6811 - accuracy: 0.6875 - 245ms/epoch - 61ms/step\n",
            "Epoch 4/5\n",
            "4/4 - 0s - loss: 0.5097 - accuracy: 0.7143 - 243ms/epoch - 61ms/step\n",
            "Epoch 5/5\n",
            "4/4 - 0s - loss: 0.6098 - accuracy: 0.7054 - 238ms/epoch - 59ms/step\n",
            "4/4 [==============================] - 0s 29ms/step - loss: 0.4955 - accuracy: 0.8036\n",
            "Epoch 1/5\n",
            "4/4 - 1s - loss: 121.3401 - accuracy: 0.4643 - 648ms/epoch - 162ms/step\n",
            "Epoch 2/5\n",
            "4/4 - 0s - loss: 21.8329 - accuracy: 0.5625 - 151ms/epoch - 38ms/step\n",
            "Epoch 3/5\n",
            "4/4 - 0s - loss: 0.6142 - accuracy: 0.5536 - 149ms/epoch - 37ms/step\n",
            "Epoch 4/5\n",
            "4/4 - 0s - loss: 0.4338 - accuracy: 0.5982 - 154ms/epoch - 38ms/step\n",
            "Epoch 5/5\n",
            "4/4 - 0s - loss: 0.3896 - accuracy: 0.6875 - 147ms/epoch - 37ms/step\n",
            "4/4 [==============================] - 0s 21ms/step - loss: 0.3524 - accuracy: 0.7589\n"
          ]
        },
        {
          "output_type": "stream",
          "name": "stderr",
          "text": [
            "\r 67%|██████▋   | 2/3 [00:15<00:07,  7.45s/it]"
          ]
        },
        {
          "output_type": "stream",
          "name": "stdout",
          "text": [
            "Epoch 1/5\n",
            "4/4 - 1s - loss: 221.6766 - accuracy: 0.5179 - 744ms/epoch - 186ms/step\n",
            "Epoch 2/5\n",
            "4/4 - 0s - loss: 21.3107 - accuracy: 0.5625 - 243ms/epoch - 61ms/step\n",
            "Epoch 3/5\n",
            "4/4 - 0s - loss: 2.6609 - accuracy: 0.5357 - 238ms/epoch - 59ms/step\n",
            "Epoch 4/5\n",
            "4/4 - 0s - loss: 0.7021 - accuracy: 0.5179 - 242ms/epoch - 60ms/step\n",
            "Epoch 5/5\n",
            "4/4 - 0s - loss: 0.6915 - accuracy: 0.5446 - 235ms/epoch - 59ms/step\n",
            "4/4 [==============================] - 0s 28ms/step - loss: 0.6915 - accuracy: 0.5268\n",
            "Epoch 1/5\n",
            "4/4 - 1s - loss: 207.9156 - accuracy: 0.4732 - 729ms/epoch - 182ms/step\n",
            "Epoch 2/5\n",
            "4/4 - 0s - loss: 0.7541 - accuracy: 0.5000 - 243ms/epoch - 61ms/step\n",
            "Epoch 3/5\n",
            "4/4 - 0s - loss: 0.6934 - accuracy: 0.5179 - 244ms/epoch - 61ms/step\n",
            "Epoch 4/5\n",
            "4/4 - 0s - loss: 0.6928 - accuracy: 0.5536 - 243ms/epoch - 61ms/step\n",
            "Epoch 5/5\n",
            "4/4 - 0s - loss: 0.6927 - accuracy: 0.5714 - 238ms/epoch - 59ms/step\n",
            "4/4 [==============================] - 0s 29ms/step - loss: 0.6928 - accuracy: 0.5536\n",
            "Epoch 1/5\n",
            "4/4 - 1s - loss: 618.1092 - accuracy: 0.5268 - 644ms/epoch - 161ms/step\n",
            "Epoch 2/5\n",
            "4/4 - 0s - loss: 158.0034 - accuracy: 0.4821 - 153ms/epoch - 38ms/step\n",
            "Epoch 3/5\n",
            "4/4 - 0s - loss: 3.6053 - accuracy: 0.5982 - 153ms/epoch - 38ms/step\n",
            "Epoch 4/5\n",
            "4/4 - 0s - loss: 0.6342 - accuracy: 0.8036 - 151ms/epoch - 38ms/step\n",
            "Epoch 5/5\n",
            "4/4 - 0s - loss: 0.4927 - accuracy: 0.7411 - 148ms/epoch - 37ms/step\n",
            "4/4 [==============================] - 0s 21ms/step - loss: 0.3742 - accuracy: 0.8304\n"
          ]
        },
        {
          "output_type": "stream",
          "name": "stderr",
          "text": [
            "                                             "
          ]
        },
        {
          "output_type": "stream",
          "name": "stdout",
          "text": [
            "\n",
            " accuracy 0.8928571343421936\n",
            "start_point = {'keras.compile.0': {'loss': ['binary_crossentropy'], 'optimizer': ['adam']}, 'keras.fit.0': {'epochs': [5], 'batch_size': [32], 'verbose': [2]}, 'keras.layers.Conv2D.1': {'filters': [64], 'kernel_size': [(3, 3)], 'activation': ['relu'], 'input_shape': [(256, 256, 3)]}, 'keras.layers.MaxPooling2D.2': {'pool_size': [(2, 2)]}, 'keras.layers.Conv2D.3': {'filters': [16], 'kernel_size': [(3, 3)], 'activation': ['relu']}, 'keras.layers.MaxPooling2D.4': {'pool_size': [(2, 2)]}, 'keras.layers.Flatten.5': {}, 'keras.layers.Dense.6': {'units': [50], 'activation': ['relu']}, 'keras.layers.Dropout.7': {'rate': [0.6000000000000001]}, 'keras.layers.Dense.8': {'units': [2], 'activation': ['softmax']}}\n",
            "1/4 [======>.......................] - ETA: 0s - loss: 0.6859 - accuracy: 0.7500"
          ]
        },
        {
          "output_type": "stream",
          "name": "stderr",
          "text": [
            "\r"
          ]
        },
        {
          "output_type": "stream",
          "name": "stdout",
          "text": [
            "4/4 [==============================] - 0s 63ms/step - loss: 0.6867 - accuracy: 0.6875\n",
            "time: 24.794370412826538\n"
          ]
        },
        {
          "output_type": "stream",
          "name": "stderr",
          "text": [
            "WARNING:tensorflow:5 out of the last 5 calls to <function Model.make_predict_function.<locals>.predict_function at 0x7f801d748950> triggered tf.function retracing. Tracing is expensive and the excessive number of tracings could be due to (1) creating @tf.function repeatedly in a loop, (2) passing tensors with different shapes, (3) passing Python objects instead of tensors. For (1), please define your @tf.function outside of the loop. For (2), @tf.function has experimental_relax_shapes=True option that relaxes argument shapes that can avoid unnecessary retracing. For (3), please refer to https://www.tensorflow.org/guide/function#controlling_retracing and https://www.tensorflow.org/api_docs/python/tf/function for  more details.\n"
          ]
        },
        {
          "output_type": "stream",
          "name": "stdout",
          "text": [
            "1/1 [==============================] - 0s 51ms/step - loss: 0.6863 - accuracy: 0.7500\n",
            "test score: 0.75\n",
            "(112, 256, 256, 3) (28, 256, 256, 3)\n",
            "Epoch 1/5\n",
            "4/4 - 1s - loss: 960.0168 - accuracy: 0.4554 - 760ms/epoch - 190ms/step\n",
            "Epoch 2/5\n",
            "4/4 - 0s - loss: 27.9440 - accuracy: 0.4911 - 263ms/epoch - 66ms/step\n",
            "Epoch 3/5\n",
            "4/4 - 0s - loss: 0.7544 - accuracy: 0.5000 - 261ms/epoch - 65ms/step\n",
            "Epoch 4/5\n",
            "4/4 - 0s - loss: 0.6945 - accuracy: 0.5089 - 258ms/epoch - 65ms/step\n",
            "Epoch 5/5\n",
            "4/4 - 0s - loss: 0.6931 - accuracy: 0.5089 - 255ms/epoch - 64ms/step\n",
            "4/4 [==============================] - 0s 29ms/step - loss: 0.6932 - accuracy: 0.4911\n"
          ]
        },
        {
          "output_type": "stream",
          "name": "stderr",
          "text": [
            "\r  0%|          | 0/3 [00:00<?, ?it/s]"
          ]
        },
        {
          "output_type": "stream",
          "name": "stdout",
          "text": [
            "Epoch 1/5\n",
            "4/4 - 1s - loss: 831.0001 - accuracy: 0.5179 - 1s/epoch - 251ms/step\n",
            "Epoch 2/5\n",
            "4/4 - 0s - loss: 98.5478 - accuracy: 0.5000 - 157ms/epoch - 39ms/step\n",
            "Epoch 3/5\n",
            "4/4 - 0s - loss: 33.7291 - accuracy: 0.5268 - 153ms/epoch - 38ms/step\n",
            "Epoch 4/5\n",
            "4/4 - 0s - loss: 2.0980 - accuracy: 0.5536 - 150ms/epoch - 38ms/step\n",
            "Epoch 5/5\n",
            "4/4 - 0s - loss: 4.2242 - accuracy: 0.6518 - 145ms/epoch - 36ms/step\n",
            "4/4 [==============================] - 0s 22ms/step - loss: 0.3990 - accuracy: 0.8125\n",
            "Epoch 1/5\n",
            "4/4 - 1s - loss: 113.7508 - accuracy: 0.4911 - 746ms/epoch - 186ms/step\n",
            "Epoch 2/5\n",
            "4/4 - 0s - loss: 0.5419 - accuracy: 0.6696 - 241ms/epoch - 60ms/step\n",
            "Epoch 3/5\n",
            "4/4 - 0s - loss: 0.4755 - accuracy: 0.7500 - 243ms/epoch - 61ms/step\n",
            "Epoch 4/5\n",
            "4/4 - 0s - loss: 0.4531 - accuracy: 0.7679 - 244ms/epoch - 61ms/step\n",
            "Epoch 5/5\n",
            "4/4 - 0s - loss: 0.4101 - accuracy: 0.8661 - 235ms/epoch - 59ms/step\n",
            "4/4 [==============================] - 0s 29ms/step - loss: 0.3843 - accuracy: 0.9196\n",
            "Epoch 1/5\n",
            "4/4 - 1s - loss: 940.6223 - accuracy: 0.5089 - 1s/epoch - 258ms/step\n",
            "Epoch 2/5\n",
            "4/4 - 1s - loss: 16.4042 - accuracy: 0.4911 - 521ms/epoch - 130ms/step\n",
            "Epoch 3/5\n",
            "4/4 - 1s - loss: 0.6703 - accuracy: 0.6518 - 509ms/epoch - 127ms/step\n",
            "Epoch 4/5\n",
            "4/4 - 1s - loss: 0.6508 - accuracy: 0.7054 - 512ms/epoch - 128ms/step\n",
            "Epoch 5/5\n",
            "4/4 - 1s - loss: 0.6427 - accuracy: 0.8036 - 508ms/epoch - 127ms/step\n",
            "4/4 [==============================] - 0s 53ms/step - loss: 0.5102 - accuracy: 0.5536\n"
          ]
        },
        {
          "output_type": "stream",
          "name": "stderr",
          "text": [
            "\r 33%|███▎      | 1/3 [00:08<00:16,  8.40s/it]"
          ]
        },
        {
          "output_type": "stream",
          "name": "stdout",
          "text": [
            "Epoch 1/5\n",
            "4/4 - 1s - loss: 1708.7733 - accuracy: 0.4375 - 652ms/epoch - 163ms/step\n",
            "Epoch 2/5\n",
            "4/4 - 0s - loss: 61.7228 - accuracy: 0.4821 - 153ms/epoch - 38ms/step\n",
            "Epoch 3/5\n",
            "4/4 - 0s - loss: 61.6514 - accuracy: 0.5179 - 155ms/epoch - 39ms/step\n",
            "Epoch 4/5\n",
            "4/4 - 0s - loss: 0.7018 - accuracy: 0.4911 - 153ms/epoch - 38ms/step\n",
            "Epoch 5/5\n",
            "4/4 - 0s - loss: 1.8400 - accuracy: 0.5000 - 144ms/epoch - 36ms/step\n",
            "4/4 [==============================] - 0s 20ms/step - loss: 0.6939 - accuracy: 0.4464\n",
            "Epoch 1/5\n",
            "4/4 - 1s - loss: 420.5240 - accuracy: 0.4911 - 762ms/epoch - 190ms/step\n",
            "Epoch 2/5\n",
            "4/4 - 0s - loss: 12.5521 - accuracy: 0.4911 - 244ms/epoch - 61ms/step\n",
            "Epoch 3/5\n",
            "4/4 - 0s - loss: 22.5485 - accuracy: 0.5089 - 243ms/epoch - 61ms/step\n",
            "Epoch 4/5\n",
            "4/4 - 0s - loss: 0.7964 - accuracy: 0.5089 - 243ms/epoch - 61ms/step\n",
            "Epoch 5/5\n",
            "4/4 - 0s - loss: 0.6932 - accuracy: 0.4911 - 235ms/epoch - 59ms/step\n",
            "4/4 [==============================] - 0s 29ms/step - loss: 0.6932 - accuracy: 0.4911\n",
            "Epoch 1/5\n",
            "4/4 - 1s - loss: 626.0577 - accuracy: 0.4643 - 638ms/epoch - 160ms/step\n",
            "Epoch 2/5\n",
            "4/4 - 0s - loss: 93.6795 - accuracy: 0.5179 - 155ms/epoch - 39ms/step\n",
            "Epoch 3/5\n",
            "4/4 - 0s - loss: 8.6219 - accuracy: 0.5536 - 152ms/epoch - 38ms/step\n",
            "Epoch 4/5\n",
            "4/4 - 0s - loss: 8.0122 - accuracy: 0.5179 - 155ms/epoch - 39ms/step\n",
            "Epoch 5/5\n",
            "4/4 - 0s - loss: 0.7524 - accuracy: 0.5179 - 149ms/epoch - 37ms/step\n",
            "4/4 [==============================] - 0s 20ms/step - loss: 0.6839 - accuracy: 0.7232\n"
          ]
        },
        {
          "output_type": "stream",
          "name": "stderr",
          "text": [
            "\r 67%|██████▋   | 2/3 [00:14<00:07,  7.04s/it]"
          ]
        },
        {
          "output_type": "stream",
          "name": "stdout",
          "text": [
            "Epoch 1/5\n",
            "4/4 - 1s - loss: 227.9049 - accuracy: 0.4911 - 737ms/epoch - 184ms/step\n",
            "Epoch 2/5\n",
            "4/4 - 0s - loss: 13.7424 - accuracy: 0.5625 - 244ms/epoch - 61ms/step\n",
            "Epoch 3/5\n",
            "4/4 - 0s - loss: 0.9894 - accuracy: 0.4911 - 244ms/epoch - 61ms/step\n",
            "Epoch 4/5\n",
            "4/4 - 0s - loss: 0.6932 - accuracy: 0.4911 - 240ms/epoch - 60ms/step\n",
            "Epoch 5/5\n",
            "4/4 - 0s - loss: 0.6932 - accuracy: 0.4911 - 234ms/epoch - 58ms/step\n",
            "4/4 [==============================] - 0s 28ms/step - loss: 0.6932 - accuracy: 0.4911\n",
            "Epoch 1/5\n",
            "4/4 - 1s - loss: 165.0105 - accuracy: 0.5089 - 748ms/epoch - 187ms/step\n",
            "Epoch 2/5\n",
            "4/4 - 0s - loss: 8.2626 - accuracy: 0.5357 - 242ms/epoch - 60ms/step\n",
            "Epoch 3/5\n",
            "4/4 - 0s - loss: 0.8436 - accuracy: 0.6875 - 241ms/epoch - 60ms/step\n",
            "Epoch 4/5\n",
            "4/4 - 0s - loss: 0.5732 - accuracy: 0.7411 - 244ms/epoch - 61ms/step\n",
            "Epoch 5/5\n",
            "4/4 - 0s - loss: 0.5566 - accuracy: 0.7232 - 234ms/epoch - 58ms/step\n",
            "4/4 [==============================] - 0s 29ms/step - loss: 0.5303 - accuracy: 0.6161\n",
            "Epoch 1/5\n",
            "4/4 - 1s - loss: 384.5955 - accuracy: 0.4464 - 655ms/epoch - 164ms/step\n",
            "Epoch 2/5\n",
            "4/4 - 0s - loss: 99.5629 - accuracy: 0.5268 - 150ms/epoch - 38ms/step\n",
            "Epoch 3/5\n",
            "4/4 - 0s - loss: 14.5883 - accuracy: 0.5357 - 153ms/epoch - 38ms/step\n",
            "Epoch 4/5\n",
            "4/4 - 0s - loss: 1.0767 - accuracy: 0.6339 - 158ms/epoch - 39ms/step\n",
            "Epoch 5/5\n",
            "4/4 - 0s - loss: 0.5583 - accuracy: 0.6875 - 149ms/epoch - 37ms/step\n",
            "4/4 [==============================] - 0s 20ms/step - loss: 0.4871 - accuracy: 0.7232\n"
          ]
        },
        {
          "output_type": "stream",
          "name": "stderr",
          "text": [
            "                                             "
          ]
        },
        {
          "output_type": "stream",
          "name": "stdout",
          "text": [
            "\n",
            " accuracy 0.9196428656578064\n",
            "start_point = {'keras.compile.0': {'loss': ['binary_crossentropy'], 'optimizer': ['adam']}, 'keras.fit.0': {'epochs': [5], 'batch_size': [32], 'verbose': [2]}, 'keras.layers.Conv2D.1': {'filters': [64], 'kernel_size': [(3, 3)], 'activation': ['relu'], 'input_shape': [(256, 256, 3)]}, 'keras.layers.MaxPooling2D.2': {'pool_size': [(2, 2)]}, 'keras.layers.Conv2D.3': {'filters': [16], 'kernel_size': [(3, 3)], 'activation': ['relu']}, 'keras.layers.MaxPooling2D.4': {'pool_size': [(2, 2)]}, 'keras.layers.Flatten.5': {}, 'keras.layers.Dense.6': {'units': [50], 'activation': ['relu']}, 'keras.layers.Dropout.7': {'rate': [0.6000000000000001]}, 'keras.layers.Dense.8': {'units': [2], 'activation': ['softmax']}}\n",
            "1/4 [======>.......................] - ETA: 0s - loss: 0.6933 - accuracy: 0.4375"
          ]
        },
        {
          "output_type": "stream",
          "name": "stderr",
          "text": [
            "\r"
          ]
        },
        {
          "output_type": "stream",
          "name": "stdout",
          "text": [
            "4/4 [==============================] - 0s 63ms/step - loss: 0.6932 - accuracy: 0.4911\n",
            "time: 23.212714433670044\n"
          ]
        },
        {
          "output_type": "stream",
          "name": "stderr",
          "text": [
            "WARNING:tensorflow:6 out of the last 6 calls to <function Model.make_predict_function.<locals>.predict_function at 0x7f801cf2af80> triggered tf.function retracing. Tracing is expensive and the excessive number of tracings could be due to (1) creating @tf.function repeatedly in a loop, (2) passing tensors with different shapes, (3) passing Python objects instead of tensors. For (1), please define your @tf.function outside of the loop. For (2), @tf.function has experimental_relax_shapes=True option that relaxes argument shapes that can avoid unnecessary retracing. For (3), please refer to https://www.tensorflow.org/guide/function#controlling_retracing and https://www.tensorflow.org/api_docs/python/tf/function for  more details.\n"
          ]
        },
        {
          "output_type": "stream",
          "name": "stdout",
          "text": [
            "1/1 [==============================] - 0s 50ms/step - loss: 0.6931 - accuracy: 0.5357\n",
            "test score: 0.5357142686843872\n"
          ]
        }
      ]
    },
    {
      "cell_type": "code",
      "source": [],
      "metadata": {
        "id": "Dh9PtkhNfK9o"
      },
      "execution_count": null,
      "outputs": []
    }
  ]
}